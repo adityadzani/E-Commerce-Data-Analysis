{
 "cells": [
  {
   "cell_type": "markdown",
   "id": "20aa5312",
   "metadata": {
    "papermill": {
     "duration": 0.055848,
     "end_time": "2021-11-30T11:06:21.749738",
     "exception": false,
     "start_time": "2021-11-30T11:06:21.693890",
     "status": "completed"
    },
    "tags": []
   },
   "source": [
    "### Summary:\n",
    "* [Problem definition](#problem_definition)\n",
    "* [Data Analysis](#data_analysis)\n",
    "    * [Customers](#customers)\n",
    "    * [Orders](#orders)\n",
    "    * [Data insights](#data_insights)\n",
    "* [Customer segmentation](#customer_segmentation)\n",
    "    * [RFM](#rfm)\n",
    "    * [Segmentation insights](#segmentation_insights)"
   ]
  },
  {
   "cell_type": "code",
   "execution_count": 1,
   "id": "ff1a3f84",
   "metadata": {
    "execution": {
     "iopub.execute_input": "2021-11-30T11:06:21.873363Z",
     "iopub.status.busy": "2021-11-30T11:06:21.872709Z",
     "iopub.status.idle": "2021-11-30T11:06:23.453640Z",
     "shell.execute_reply": "2021-11-30T11:06:23.452688Z",
     "shell.execute_reply.started": "2021-11-23T01:00:30.022012Z"
    },
    "papermill": {
     "duration": 1.646057,
     "end_time": "2021-11-30T11:06:23.453824",
     "exception": false,
     "start_time": "2021-11-30T11:06:21.807767",
     "status": "completed"
    },
    "tags": []
   },
   "outputs": [],
   "source": [
    "import pandas as pd\n",
    "import urllib\n",
    "import json\n",
    "import unidecode\n",
    "import seaborn as sns\n",
    "import matplotlib.pyplot as plt\n",
    "import matplotlib.image as mpimg\n",
    "import datetime\n",
    "import numpy as np\n",
    "from statsmodels.tsa.seasonal import seasonal_decompose\n",
    "from sklearn.preprocessing import StandardScaler\n",
    "from sklearn.cluster import KMeans"
   ]
  },
  {
   "cell_type": "markdown",
   "id": "9dacdfb2",
   "metadata": {
    "papermill": {
     "duration": 0.053115,
     "end_time": "2021-11-30T11:06:23.560578",
     "exception": false,
     "start_time": "2021-11-30T11:06:23.507463",
     "status": "completed"
    },
    "tags": []
   },
   "source": [
    "<a id='problem_definition'></a>\n",
    "## Problem Definition\n",
    "This is a Brazilian ecommerce public dataset of orders made at Olist Store available at [Kaggle](https://www.kaggle.com/olistbr/brazilian-ecommerce). The dataset has information of 100k orders from 2016 to 2018 made at multiple marketplaces in Brazil.  From the analysis of the information, answer the following questions:\n",
    "\n",
    "* Who are these customers?\n",
    "* How would you classify them?\n",
    "* What would be a possible CRM campaign strategy?\n",
    "\n",
    "**Data Diagram:**\n",
    "\n",
    "<img src=\"Olist_database_schema.png\" width=760 height=760 />"
   ]
  },
  {
   "cell_type": "markdown",
   "id": "0f986133",
   "metadata": {},
   "source": [
    "<a id='data_analysis'></a>\n",
    "## Data Analysis"
   ]
  },
  {
   "cell_type": "code",
   "execution_count": 2,
   "id": "16dca22d",
   "metadata": {
    "execution": {
     "iopub.execute_input": "2021-11-30T11:06:23.671800Z",
     "iopub.status.busy": "2021-11-30T11:06:23.671176Z",
     "iopub.status.idle": "2021-11-30T11:06:27.019073Z",
     "shell.execute_reply": "2021-11-30T11:06:27.019662Z",
     "shell.execute_reply.started": "2021-11-23T01:00:30.031626Z"
    },
    "papermill": {
     "duration": 3.404811,
     "end_time": "2021-11-30T11:06:27.019896",
     "exception": false,
     "start_time": "2021-11-30T11:06:23.615085",
     "status": "completed"
    },
    "tags": []
   },
   "outputs": [],
   "source": [
    "customers = pd.read_csv('olist_customers_dataset.csv')\n",
    "geolocation = pd.read_csv('olist_geolocation_dataset.csv')\n",
    "orders = pd.read_csv('olist_orders_dataset.csv')\n",
    "order_items = pd.read_csv('olist_order_items_dataset.csv')"
   ]
  },
  {
   "cell_type": "markdown",
   "id": "b0563c8b",
   "metadata": {
    "papermill": {
     "duration": 0.054852,
     "end_time": "2021-11-30T11:06:27.135793",
     "exception": false,
     "start_time": "2021-11-30T11:06:27.080941",
     "status": "completed"
    },
    "tags": []
   },
   "source": [
    "<a id='customers'></a>\n",
    "### Customers"
   ]
  },
  {
   "cell_type": "code",
   "execution_count": 3,
   "id": "37ff6a02",
   "metadata": {
    "execution": {
     "iopub.execute_input": "2021-11-30T11:06:27.333597Z",
     "iopub.status.busy": "2021-11-30T11:06:27.332568Z",
     "iopub.status.idle": "2021-11-30T11:06:27.357071Z",
     "shell.execute_reply": "2021-11-30T11:06:27.357601Z",
     "shell.execute_reply.started": "2021-11-23T01:00:31.955828Z"
    },
    "papermill": {
     "duration": 0.168233,
     "end_time": "2021-11-30T11:06:27.357794",
     "exception": false,
     "start_time": "2021-11-30T11:06:27.189561",
     "status": "completed"
    },
    "tags": []
   },
   "outputs": [
    {
     "data": {
      "text/html": [
       "<div>\n",
       "<style scoped>\n",
       "    .dataframe tbody tr th:only-of-type {\n",
       "        vertical-align: middle;\n",
       "    }\n",
       "\n",
       "    .dataframe tbody tr th {\n",
       "        vertical-align: top;\n",
       "    }\n",
       "\n",
       "    .dataframe thead th {\n",
       "        text-align: right;\n",
       "    }\n",
       "</style>\n",
       "<table border=\"1\" class=\"dataframe\">\n",
       "  <thead>\n",
       "    <tr style=\"text-align: right;\">\n",
       "      <th></th>\n",
       "      <th>customer_id</th>\n",
       "      <th>customer_unique_id</th>\n",
       "      <th>customer_zip_code_prefix</th>\n",
       "      <th>customer_city</th>\n",
       "      <th>customer_state</th>\n",
       "    </tr>\n",
       "  </thead>\n",
       "  <tbody>\n",
       "    <tr>\n",
       "      <th>73176</th>\n",
       "      <td>11ab6d2231a0af5746b44a810b62b0a1</td>\n",
       "      <td>a6cc6e3138236cf4795743335351594c</td>\n",
       "      <td>73700</td>\n",
       "      <td>padre bernardo</td>\n",
       "      <td>GO</td>\n",
       "    </tr>\n",
       "    <tr>\n",
       "      <th>33436</th>\n",
       "      <td>91afedb8e47673f4190946478dcb74c2</td>\n",
       "      <td>a620d8d041bb2d82707eaba9f669d861</td>\n",
       "      <td>22631</td>\n",
       "      <td>rio de janeiro</td>\n",
       "      <td>RJ</td>\n",
       "    </tr>\n",
       "    <tr>\n",
       "      <th>26040</th>\n",
       "      <td>0fcee0348735ecb82c1a60d021fa3ea4</td>\n",
       "      <td>7cbfdb67d344d745e097fbb2a570c9e6</td>\n",
       "      <td>71881</td>\n",
       "      <td>brasilia</td>\n",
       "      <td>DF</td>\n",
       "    </tr>\n",
       "    <tr>\n",
       "      <th>78667</th>\n",
       "      <td>6dce1c254422c0bd1bd20036ccbad17d</td>\n",
       "      <td>afd014d3748c3080be33293adb915eb0</td>\n",
       "      <td>37750</td>\n",
       "      <td>machado</td>\n",
       "      <td>MG</td>\n",
       "    </tr>\n",
       "    <tr>\n",
       "      <th>41623</th>\n",
       "      <td>1abde0f02489fb0d22f4a0be40aa537c</td>\n",
       "      <td>37245a48d008eb321443206f47cb5c4a</td>\n",
       "      <td>39860</td>\n",
       "      <td>nanuque</td>\n",
       "      <td>MG</td>\n",
       "    </tr>\n",
       "  </tbody>\n",
       "</table>\n",
       "</div>"
      ],
      "text/plain": [
       "                            customer_id                customer_unique_id  \\\n",
       "73176  11ab6d2231a0af5746b44a810b62b0a1  a6cc6e3138236cf4795743335351594c   \n",
       "33436  91afedb8e47673f4190946478dcb74c2  a620d8d041bb2d82707eaba9f669d861   \n",
       "26040  0fcee0348735ecb82c1a60d021fa3ea4  7cbfdb67d344d745e097fbb2a570c9e6   \n",
       "78667  6dce1c254422c0bd1bd20036ccbad17d  afd014d3748c3080be33293adb915eb0   \n",
       "41623  1abde0f02489fb0d22f4a0be40aa537c  37245a48d008eb321443206f47cb5c4a   \n",
       "\n",
       "       customer_zip_code_prefix   customer_city customer_state  \n",
       "73176                     73700  padre bernardo             GO  \n",
       "33436                     22631  rio de janeiro             RJ  \n",
       "26040                     71881        brasilia             DF  \n",
       "78667                     37750         machado             MG  \n",
       "41623                     39860         nanuque             MG  "
      ]
     },
     "execution_count": 3,
     "metadata": {},
     "output_type": "execute_result"
    }
   ],
   "source": [
    "customers.sample(5)"
   ]
  },
  {
   "cell_type": "markdown",
   "id": "eefddc2e",
   "metadata": {
    "papermill": {
     "duration": 0.05381,
     "end_time": "2021-11-30T11:06:27.466488",
     "exception": false,
     "start_time": "2021-11-30T11:06:27.412678",
     "status": "completed"
    },
    "tags": []
   },
   "source": [
    "There are no null values for customers"
   ]
  },
  {
   "cell_type": "code",
   "execution_count": 4,
   "id": "edcfacaf",
   "metadata": {
    "execution": {
     "iopub.execute_input": "2021-11-30T11:06:27.578449Z",
     "iopub.status.busy": "2021-11-30T11:06:27.577730Z",
     "iopub.status.idle": "2021-11-30T11:06:27.629736Z",
     "shell.execute_reply": "2021-11-30T11:06:27.630387Z",
     "shell.execute_reply.started": "2021-11-23T01:00:31.974982Z"
    },
    "papermill": {
     "duration": 0.110059,
     "end_time": "2021-11-30T11:06:27.630602",
     "exception": false,
     "start_time": "2021-11-30T11:06:27.520543",
     "status": "completed"
    },
    "tags": []
   },
   "outputs": [
    {
     "data": {
      "text/plain": [
       "customer_id                 0.0\n",
       "customer_unique_id          0.0\n",
       "customer_zip_code_prefix    0.0\n",
       "customer_city               0.0\n",
       "customer_state              0.0\n",
       "dtype: float64"
      ]
     },
     "execution_count": 4,
     "metadata": {},
     "output_type": "execute_result"
    }
   ],
   "source": [
    "customers.isna().mean()"
   ]
  },
  {
   "cell_type": "markdown",
   "id": "fa31262e",
   "metadata": {
    "papermill": {
     "duration": 0.054045,
     "end_time": "2021-11-30T11:06:27.739356",
     "exception": false,
     "start_time": "2021-11-30T11:06:27.685311",
     "status": "completed"
    },
    "tags": []
   },
   "source": [
    "There are duplicate customer_unique_id, because the dataset is per order. Where client_id is the key to the order dataset. Each order has a unique client_id."
   ]
  },
  {
   "cell_type": "code",
   "execution_count": 5,
   "id": "656830d6",
   "metadata": {
    "execution": {
     "iopub.execute_input": "2021-11-30T11:06:27.851597Z",
     "iopub.status.busy": "2021-11-30T11:06:27.850917Z",
     "iopub.status.idle": "2021-11-30T11:06:28.136419Z",
     "shell.execute_reply": "2021-11-30T11:06:28.136943Z",
     "shell.execute_reply.started": "2021-11-23T01:00:32.037599Z"
    },
    "papermill": {
     "duration": 0.343282,
     "end_time": "2021-11-30T11:06:28.137158",
     "exception": false,
     "start_time": "2021-11-30T11:06:27.793876",
     "status": "completed"
    },
    "tags": []
   },
   "outputs": [
    {
     "data": {
      "text/plain": [
       "customer_unique_id\n",
       "8d50f5eadf50201ccdcedfb9e2ac8455    17\n",
       "3e43e6105506432c953e165fb2acf44c     9\n",
       "6469f99c1f9dfae7733b25662e7f1782     7\n",
       "ca77025e7201e3b30c44b472ff346268     7\n",
       "1b6c7548a2a1f9037c1fd3ddfed95f33     7\n",
       "                                    ..\n",
       "5657dfebff5868c4dc7e8355fea865c4     1\n",
       "5657596addb4d7b07b32cd330614bdf8     1\n",
       "5656eb169546146caeab56c3ffc3d268     1\n",
       "5656a8fabc8629ff96b2bc14f8c09a27     1\n",
       "ffffd2657e2aad2907e67c3e9daecbeb     1\n",
       "Length: 96096, dtype: int64"
      ]
     },
     "execution_count": 5,
     "metadata": {},
     "output_type": "execute_result"
    }
   ],
   "source": [
    "customers.groupby('customer_unique_id').size().sort_values(ascending=False)"
   ]
  },
  {
   "cell_type": "markdown",
   "id": "489aff52",
   "metadata": {
    "papermill": {
     "duration": 0.054651,
     "end_time": "2021-11-30T11:06:28.246983",
     "exception": false,
     "start_time": "2021-11-30T11:06:28.192332",
     "status": "completed"
    },
    "tags": []
   },
   "source": [
    "**Geolocation:**"
   ]
  },
  {
   "cell_type": "code",
   "execution_count": 6,
   "id": "e451a847",
   "metadata": {
    "execution": {
     "iopub.execute_input": "2021-11-30T11:06:28.361536Z",
     "iopub.status.busy": "2021-11-30T11:06:28.359431Z",
     "iopub.status.idle": "2021-11-30T11:06:28.409305Z",
     "shell.execute_reply": "2021-11-30T11:06:28.408726Z",
     "shell.execute_reply.started": "2021-11-23T01:00:32.285593Z"
    },
    "papermill": {
     "duration": 0.107544,
     "end_time": "2021-11-30T11:06:28.409468",
     "exception": false,
     "start_time": "2021-11-30T11:06:28.301924",
     "status": "completed"
    },
    "tags": []
   },
   "outputs": [
    {
     "data": {
      "text/html": [
       "<div>\n",
       "<style scoped>\n",
       "    .dataframe tbody tr th:only-of-type {\n",
       "        vertical-align: middle;\n",
       "    }\n",
       "\n",
       "    .dataframe tbody tr th {\n",
       "        vertical-align: top;\n",
       "    }\n",
       "\n",
       "    .dataframe thead th {\n",
       "        text-align: right;\n",
       "    }\n",
       "</style>\n",
       "<table border=\"1\" class=\"dataframe\">\n",
       "  <thead>\n",
       "    <tr style=\"text-align: right;\">\n",
       "      <th></th>\n",
       "      <th>geolocation_zip_code_prefix</th>\n",
       "      <th>geolocation_lat</th>\n",
       "      <th>geolocation_lng</th>\n",
       "      <th>geolocation_city</th>\n",
       "      <th>geolocation_state</th>\n",
       "    </tr>\n",
       "  </thead>\n",
       "  <tbody>\n",
       "    <tr>\n",
       "      <th>8975</th>\n",
       "      <td>36225</td>\n",
       "      <td>-21.427528</td>\n",
       "      <td>-43.956327</td>\n",
       "      <td>ibertioga</td>\n",
       "      <td>MG</td>\n",
       "    </tr>\n",
       "    <tr>\n",
       "      <th>12063</th>\n",
       "      <td>58703</td>\n",
       "      <td>-7.024382</td>\n",
       "      <td>-37.283977</td>\n",
       "      <td>patos</td>\n",
       "      <td>PB</td>\n",
       "    </tr>\n",
       "    <tr>\n",
       "      <th>1683</th>\n",
       "      <td>4026</td>\n",
       "      <td>-23.594190</td>\n",
       "      <td>-46.644828</td>\n",
       "      <td>são paulo</td>\n",
       "      <td>SP</td>\n",
       "    </tr>\n",
       "    <tr>\n",
       "      <th>17707</th>\n",
       "      <td>89289</td>\n",
       "      <td>-26.244746</td>\n",
       "      <td>-49.438727</td>\n",
       "      <td>são bento do sul</td>\n",
       "      <td>SC</td>\n",
       "    </tr>\n",
       "    <tr>\n",
       "      <th>16103</th>\n",
       "      <td>79440</td>\n",
       "      <td>-20.098783</td>\n",
       "      <td>-54.435006</td>\n",
       "      <td>jaraguari</td>\n",
       "      <td>MS</td>\n",
       "    </tr>\n",
       "  </tbody>\n",
       "</table>\n",
       "</div>"
      ],
      "text/plain": [
       "       geolocation_zip_code_prefix  geolocation_lat  geolocation_lng  \\\n",
       "8975                         36225       -21.427528       -43.956327   \n",
       "12063                        58703        -7.024382       -37.283977   \n",
       "1683                          4026       -23.594190       -46.644828   \n",
       "17707                        89289       -26.244746       -49.438727   \n",
       "16103                        79440       -20.098783       -54.435006   \n",
       "\n",
       "       geolocation_city geolocation_state  \n",
       "8975          ibertioga                MG  \n",
       "12063             patos                PB  \n",
       "1683          são paulo                SP  \n",
       "17707  são bento do sul                SC  \n",
       "16103         jaraguari                MS  "
      ]
     },
     "execution_count": 6,
     "metadata": {},
     "output_type": "execute_result"
    }
   ],
   "source": [
    "geolocation.sample(5)"
   ]
  },
  {
   "cell_type": "markdown",
   "id": "850405de",
   "metadata": {
    "papermill": {
     "duration": 0.058799,
     "end_time": "2021-11-30T11:06:28.527407",
     "exception": false,
     "start_time": "2021-11-30T11:06:28.468608",
     "status": "completed"
    },
    "tags": []
   },
   "source": [
    "There are no null values for geolocation"
   ]
  },
  {
   "cell_type": "code",
   "execution_count": 7,
   "id": "29ad28c1",
   "metadata": {
    "execution": {
     "iopub.execute_input": "2021-11-30T11:06:28.653340Z",
     "iopub.status.busy": "2021-11-30T11:06:28.652433Z",
     "iopub.status.idle": "2021-11-30T11:06:28.883401Z",
     "shell.execute_reply": "2021-11-30T11:06:28.882657Z",
     "shell.execute_reply.started": "2021-11-23T01:00:32.329463Z"
    },
    "papermill": {
     "duration": 0.293621,
     "end_time": "2021-11-30T11:06:28.883578",
     "exception": false,
     "start_time": "2021-11-30T11:06:28.589957",
     "status": "completed"
    },
    "tags": []
   },
   "outputs": [
    {
     "data": {
      "text/plain": [
       "geolocation_zip_code_prefix    0.0\n",
       "geolocation_lat                0.0\n",
       "geolocation_lng                0.0\n",
       "geolocation_city               0.0\n",
       "geolocation_state              0.0\n",
       "dtype: float64"
      ]
     },
     "execution_count": 7,
     "metadata": {},
     "output_type": "execute_result"
    }
   ],
   "source": [
    "geolocation.isna().mean()"
   ]
  },
  {
   "cell_type": "markdown",
   "id": "64cfac3a",
   "metadata": {
    "papermill": {
     "duration": 0.059286,
     "end_time": "2021-11-30T11:06:29.003723",
     "exception": false,
     "start_time": "2021-11-30T11:06:28.944437",
     "status": "completed"
    },
    "tags": []
   },
   "source": [
    "As we can see, there are duplicates of the city with accents in the names."
   ]
  },
  {
   "cell_type": "code",
   "execution_count": 8,
   "id": "7d346d0a",
   "metadata": {
    "execution": {
     "iopub.execute_input": "2021-11-30T11:06:29.127830Z",
     "iopub.status.busy": "2021-11-30T11:06:29.125828Z",
     "iopub.status.idle": "2021-11-30T11:06:29.235891Z",
     "shell.execute_reply": "2021-11-30T11:06:29.235009Z",
     "shell.execute_reply.started": "2021-11-23T01:00:32.563371Z"
    },
    "papermill": {
     "duration": 0.173032,
     "end_time": "2021-11-30T11:06:29.236082",
     "exception": false,
     "start_time": "2021-11-30T11:06:29.063050",
     "status": "completed"
    },
    "tags": []
   },
   "outputs": [
    {
     "data": {
      "text/plain": [
       "array(['são paulo', 'sao paulo', 'taboão da serra', ..., 'ciríaco',\n",
       "       'david canabarro', 'muliterno'], dtype=object)"
      ]
     },
     "execution_count": 8,
     "metadata": {},
     "output_type": "execute_result"
    }
   ],
   "source": [
    "geolocation['geolocation_city'].unique()"
   ]
  },
  {
   "cell_type": "code",
   "execution_count": 9,
   "id": "0373353e",
   "metadata": {
    "execution": {
     "iopub.execute_input": "2021-11-30T11:06:29.362512Z",
     "iopub.status.busy": "2021-11-30T11:06:29.361572Z",
     "iopub.status.idle": "2021-11-30T11:06:29.364662Z",
     "shell.execute_reply": "2021-11-30T11:06:29.363908Z",
     "shell.execute_reply.started": "2021-11-23T01:00:32.662612Z"
    },
    "papermill": {
     "duration": 0.068304,
     "end_time": "2021-11-30T11:06:29.364820",
     "exception": false,
     "start_time": "2021-11-30T11:06:29.296516",
     "status": "completed"
    },
    "tags": []
   },
   "outputs": [],
   "source": [
    "def pretty_string(column):\n",
    "    column_space = ' '.join(column.split())\n",
    "    return unidecode.unidecode(column_space.lower())"
   ]
  },
  {
   "cell_type": "code",
   "execution_count": 10,
   "id": "069e8246",
   "metadata": {
    "execution": {
     "iopub.execute_input": "2021-11-30T11:06:29.488755Z",
     "iopub.status.busy": "2021-11-30T11:06:29.488037Z",
     "iopub.status.idle": "2021-11-30T11:06:31.278428Z",
     "shell.execute_reply": "2021-11-30T11:06:31.277736Z",
     "shell.execute_reply.started": "2021-11-23T01:00:32.670728Z"
    },
    "papermill": {
     "duration": 1.853055,
     "end_time": "2021-11-30T11:06:31.278592",
     "exception": false,
     "start_time": "2021-11-30T11:06:29.425537",
     "status": "completed"
    },
    "tags": []
   },
   "outputs": [],
   "source": [
    "geolocation['geolocation_city'] = geolocation['geolocation_city'].apply(pretty_string)"
   ]
  },
  {
   "cell_type": "markdown",
   "id": "9742fffa",
   "metadata": {
    "papermill": {
     "duration": 0.055253,
     "end_time": "2021-11-30T11:06:31.389763",
     "exception": false,
     "start_time": "2021-11-30T11:06:31.334510",
     "status": "completed"
    },
    "tags": []
   },
   "source": [
    "As we can see, there is the same zip code prefix with more than 1 location. This problem may have occurred because only the zip code prefix was kept. To solve this problem we will use the median value of the latitude and longitude of each point"
   ]
  },
  {
   "cell_type": "code",
   "execution_count": 11,
   "id": "95ae7013",
   "metadata": {
    "execution": {
     "iopub.execute_input": "2021-11-30T11:06:31.506953Z",
     "iopub.status.busy": "2021-11-30T11:06:31.506272Z",
     "iopub.status.idle": "2021-11-30T11:06:31.554522Z",
     "shell.execute_reply": "2021-11-30T11:06:31.553821Z",
     "shell.execute_reply.started": "2021-11-23T01:00:34.387673Z"
    },
    "papermill": {
     "duration": 0.109334,
     "end_time": "2021-11-30T11:06:31.554672",
     "exception": false,
     "start_time": "2021-11-30T11:06:31.445338",
     "status": "completed"
    },
    "tags": []
   },
   "outputs": [
    {
     "data": {
      "text/plain": [
       "geolocation_zip_code_prefix\n",
       "1001     1\n",
       "62021    1\n",
       "62016    1\n",
       "62015    1\n",
       "62014    1\n",
       "        ..\n",
       "19911    1\n",
       "19910    1\n",
       "19909    1\n",
       "19908    1\n",
       "99990    1\n",
       "Length: 19015, dtype: int64"
      ]
     },
     "execution_count": 11,
     "metadata": {},
     "output_type": "execute_result"
    }
   ],
   "source": [
    "geolocation.groupby('geolocation_zip_code_prefix').size().sort_values(ascending=False)"
   ]
  },
  {
   "cell_type": "code",
   "execution_count": 12,
   "id": "d80f5fc7",
   "metadata": {
    "execution": {
     "iopub.execute_input": "2021-11-30T11:06:31.674838Z",
     "iopub.status.busy": "2021-11-30T11:06:31.674137Z",
     "iopub.status.idle": "2021-11-30T11:06:31.684953Z",
     "shell.execute_reply": "2021-11-30T11:06:31.685598Z",
     "shell.execute_reply.started": "2021-11-23T01:00:34.416007Z"
    },
    "papermill": {
     "duration": 0.07533,
     "end_time": "2021-11-30T11:06:31.685774",
     "exception": false,
     "start_time": "2021-11-30T11:06:31.610444",
     "status": "completed"
    },
    "tags": []
   },
   "outputs": [
    {
     "data": {
      "text/html": [
       "<div>\n",
       "<style scoped>\n",
       "    .dataframe tbody tr th:only-of-type {\n",
       "        vertical-align: middle;\n",
       "    }\n",
       "\n",
       "    .dataframe tbody tr th {\n",
       "        vertical-align: top;\n",
       "    }\n",
       "\n",
       "    .dataframe thead th {\n",
       "        text-align: right;\n",
       "    }\n",
       "</style>\n",
       "<table border=\"1\" class=\"dataframe\">\n",
       "  <thead>\n",
       "    <tr style=\"text-align: right;\">\n",
       "      <th></th>\n",
       "      <th>geolocation_zip_code_prefix</th>\n",
       "      <th>geolocation_lat</th>\n",
       "      <th>geolocation_lng</th>\n",
       "      <th>geolocation_city</th>\n",
       "      <th>geolocation_state</th>\n",
       "    </tr>\n",
       "  </thead>\n",
       "  <tbody>\n",
       "    <tr>\n",
       "      <th>6837</th>\n",
       "      <td>24220</td>\n",
       "      <td>-22.898404</td>\n",
       "      <td>-43.092417</td>\n",
       "      <td>niteroi</td>\n",
       "      <td>RJ</td>\n",
       "    </tr>\n",
       "  </tbody>\n",
       "</table>\n",
       "</div>"
      ],
      "text/plain": [
       "      geolocation_zip_code_prefix  geolocation_lat  geolocation_lng  \\\n",
       "6837                        24220       -22.898404       -43.092417   \n",
       "\n",
       "     geolocation_city geolocation_state  \n",
       "6837          niteroi                RJ  "
      ]
     },
     "execution_count": 12,
     "metadata": {},
     "output_type": "execute_result"
    }
   ],
   "source": [
    "geolocation[geolocation['geolocation_zip_code_prefix'] == 24220].head()    "
   ]
  },
  {
   "cell_type": "markdown",
   "id": "bb91e43c",
   "metadata": {
    "papermill": {
     "duration": 0.056731,
     "end_time": "2021-11-30T11:06:31.799305",
     "exception": false,
     "start_time": "2021-11-30T11:06:31.742574",
     "status": "completed"
    },
    "tags": []
   },
   "source": [
    "There are 8 zip codes with two or more states. To solve this problem, we will count the states by zip code and use the majority state for this zip code."
   ]
  },
  {
   "cell_type": "code",
   "execution_count": 13,
   "id": "9cdb5f79",
   "metadata": {
    "execution": {
     "iopub.execute_input": "2021-11-30T11:06:31.916405Z",
     "iopub.status.busy": "2021-11-30T11:06:31.915646Z",
     "iopub.status.idle": "2021-11-30T11:06:32.291625Z",
     "shell.execute_reply": "2021-11-30T11:06:32.291028Z",
     "shell.execute_reply.started": "2021-11-23T01:00:34.429575Z"
    },
    "papermill": {
     "duration": 0.435572,
     "end_time": "2021-11-30T11:06:32.291784",
     "exception": false,
     "start_time": "2021-11-30T11:06:31.856212",
     "status": "completed"
    },
    "tags": []
   },
   "outputs": [],
   "source": [
    "other_state_geolocation = geolocation.groupby(['geolocation_zip_code_prefix'])['geolocation_state'].nunique().reset_index(name='count')\n",
    "other_state_geolocation[other_state_geolocation['count']>= 2].shape\n",
    "max_state = geolocation.groupby(['geolocation_zip_code_prefix','geolocation_state']).size().reset_index(name='count').drop_duplicates(subset = 'geolocation_zip_code_prefix').drop('count',axis=1)"
   ]
  },
  {
   "cell_type": "code",
   "execution_count": 14,
   "id": "d6eabda8",
   "metadata": {
    "execution": {
     "iopub.execute_input": "2021-11-30T11:06:32.427055Z",
     "iopub.status.busy": "2021-11-30T11:06:32.426351Z",
     "iopub.status.idle": "2021-11-30T11:06:32.847653Z",
     "shell.execute_reply": "2021-11-30T11:06:32.846897Z",
     "shell.execute_reply.started": "2021-11-23T01:00:34.716588Z"
    },
    "papermill": {
     "duration": 0.498171,
     "end_time": "2021-11-30T11:06:32.847813",
     "exception": false,
     "start_time": "2021-11-30T11:06:32.349642",
     "status": "completed"
    },
    "tags": []
   },
   "outputs": [],
   "source": [
    "geolocation_silver = geolocation.groupby(['geolocation_zip_code_prefix','geolocation_city','geolocation_state'])[['geolocation_lat','geolocation_lng']].median().reset_index()\n",
    "geolocation_silver = geolocation_silver.merge(max_state,on=['geolocation_zip_code_prefix','geolocation_state'],how='inner')"
   ]
  },
  {
   "cell_type": "code",
   "execution_count": 15,
   "id": "ce3eb20a",
   "metadata": {
    "execution": {
     "iopub.execute_input": "2021-11-30T11:06:32.968237Z",
     "iopub.status.busy": "2021-11-30T11:06:32.967372Z",
     "iopub.status.idle": "2021-11-30T11:06:33.038641Z",
     "shell.execute_reply": "2021-11-30T11:06:33.037950Z",
     "shell.execute_reply.started": "2021-11-23T01:00:35.035319Z"
    },
    "papermill": {
     "duration": 0.134516,
     "end_time": "2021-11-30T11:06:33.038790",
     "exception": false,
     "start_time": "2021-11-30T11:06:32.904274",
     "status": "completed"
    },
    "tags": []
   },
   "outputs": [],
   "source": [
    "customers_silver = customers.merge(geolocation_silver,left_on='customer_zip_code_prefix',right_on='geolocation_zip_code_prefix',how='inner')"
   ]
  },
  {
   "cell_type": "code",
   "execution_count": 16,
   "id": "af9ad624",
   "metadata": {
    "execution": {
     "iopub.execute_input": "2021-11-30T11:06:33.161141Z",
     "iopub.status.busy": "2021-11-30T11:06:33.159958Z",
     "iopub.status.idle": "2021-11-30T11:06:33.161916Z",
     "shell.execute_reply": "2021-11-30T11:06:33.162583Z",
     "shell.execute_reply.started": "2021-11-23T01:00:35.098573Z"
    },
    "papermill": {
     "duration": 0.066261,
     "end_time": "2021-11-30T11:06:33.162765",
     "exception": false,
     "start_time": "2021-11-30T11:06:33.096504",
     "status": "completed"
    },
    "tags": []
   },
   "outputs": [],
   "source": [
    "def plot_brasil_map(data):\n",
    "    brazil = mpimg.imread(urllib.request.urlopen('https://i.pinimg.com/originals/3a/0c/e1/3a0ce18b3c842748c255bc0aa445ad41.jpg'),'jpg')\n",
    "    ax = data.plot(kind=\"scatter\", x=\"geolocation_lng\", y=\"geolocation_lat\", figsize=(10,10), alpha=0.3,s=0.3,c='blue')\n",
    "    plt.axis('off')\n",
    "    plt.imshow(brazil, extent=[-73.98283055, -33.8,-33.75116944,5.4])\n",
    "    plt.show()"
   ]
  },
  {
   "cell_type": "markdown",
   "id": "230b454d",
   "metadata": {
    "papermill": {
     "duration": 0.056418,
     "end_time": "2021-11-30T11:06:33.275435",
     "exception": false,
     "start_time": "2021-11-30T11:06:33.219017",
     "status": "completed"
    },
    "tags": []
   },
   "source": [
    "As we can see, there are more customers in the southeast and south of the country. Other information, there are more customers in cities that are capitals (São Paulo, Rio de Janeiro, Porto Alegre and otheres)."
   ]
  },
  {
   "cell_type": "code",
   "execution_count": 17,
   "id": "7506591b",
   "metadata": {
    "execution": {
     "iopub.execute_input": "2021-11-30T11:06:33.391933Z",
     "iopub.status.busy": "2021-11-30T11:06:33.390945Z",
     "iopub.status.idle": "2021-11-30T11:06:34.130213Z",
     "shell.execute_reply": "2021-11-30T11:06:34.130720Z",
     "shell.execute_reply.started": "2021-11-23T01:00:35.113104Z"
    },
    "papermill": {
     "duration": 0.799265,
     "end_time": "2021-11-30T11:06:34.130895",
     "exception": false,
     "start_time": "2021-11-30T11:06:33.331630",
     "status": "completed"
    },
    "tags": []
   },
   "outputs": [
    {
     "data": {
      "image/png": "[encoded data removed]",
      "text/plain": [
       "<Figure size 720x720 with 1 Axes>"
      ]
     },
     "metadata": {},
     "output_type": "display_data"
    }
   ],
   "source": [
    "plot_brasil_map(customers_silver.drop_duplicates(subset='customer_unique_id'))"
   ]
  },
  {
   "cell_type": "markdown",
   "id": "a8b5db91",
   "metadata": {
    "papermill": {
     "duration": 0.060924,
     "end_time": "2021-11-30T11:06:34.252868",
     "exception": false,
     "start_time": "2021-11-30T11:06:34.191944",
     "status": "completed"
    },
    "tags": []
   },
   "source": [
    "<a id='orders'></a>\n",
    "## Orders"
   ]
  },
  {
   "cell_type": "code",
   "execution_count": 18,
   "id": "9ab3f380",
   "metadata": {
    "execution": {
     "iopub.execute_input": "2021-11-30T11:06:34.378668Z",
     "iopub.status.busy": "2021-11-30T11:06:34.377978Z",
     "iopub.status.idle": "2021-11-30T11:06:34.394493Z",
     "shell.execute_reply": "2021-11-30T11:06:34.394971Z",
     "shell.execute_reply.started": "2021-11-23T01:00:36.898783Z"
    },
    "papermill": {
     "duration": 0.081174,
     "end_time": "2021-11-30T11:06:34.395173",
     "exception": false,
     "start_time": "2021-11-30T11:06:34.313999",
     "status": "completed"
    },
    "tags": []
   },
   "outputs": [
    {
     "data": {
      "text/html": [
       "<div>\n",
       "<style scoped>\n",
       "    .dataframe tbody tr th:only-of-type {\n",
       "        vertical-align: middle;\n",
       "    }\n",
       "\n",
       "    .dataframe tbody tr th {\n",
       "        vertical-align: top;\n",
       "    }\n",
       "\n",
       "    .dataframe thead th {\n",
       "        text-align: right;\n",
       "    }\n",
       "</style>\n",
       "<table border=\"1\" class=\"dataframe\">\n",
       "  <thead>\n",
       "    <tr style=\"text-align: right;\">\n",
       "      <th></th>\n",
       "      <th>order_id</th>\n",
       "      <th>order_item_id</th>\n",
       "      <th>product_id</th>\n",
       "      <th>seller_id</th>\n",
       "      <th>shipping_limit_date</th>\n",
       "      <th>price</th>\n",
       "      <th>freight_value</th>\n",
       "    </tr>\n",
       "  </thead>\n",
       "  <tbody>\n",
       "    <tr>\n",
       "      <th>102040</th>\n",
       "      <td>e793ab3ca23d5c9cabf0278e50dfa41a</td>\n",
       "      <td>1</td>\n",
       "      <td>0e2d365a247d105fefc31b17ab8706d9</td>\n",
       "      <td>289cdb325fb7e7f891c38608bf9e0962</td>\n",
       "      <td>2018-07-26 10:20:45</td>\n",
       "      <td>132.20</td>\n",
       "      <td>16.03</td>\n",
       "    </tr>\n",
       "    <tr>\n",
       "      <th>72819</th>\n",
       "      <td>a60241fca336b3f14485dff30a172cab</td>\n",
       "      <td>2</td>\n",
       "      <td>883cea107372a7f07b5830904f74952d</td>\n",
       "      <td>1c40343cc5d18c2d8248ac2f3366de34</td>\n",
       "      <td>2018-07-31 22:24:21</td>\n",
       "      <td>64.99</td>\n",
       "      <td>23.26</td>\n",
       "    </tr>\n",
       "    <tr>\n",
       "      <th>38407</th>\n",
       "      <td>5739eb8dc1389c46e5ff8fc605a6ba44</td>\n",
       "      <td>1</td>\n",
       "      <td>5bf681c3d83a332fbb49765e3e572145</td>\n",
       "      <td>537eb890efff034a88679788b647c564</td>\n",
       "      <td>2018-05-23 21:15:40</td>\n",
       "      <td>20.90</td>\n",
       "      <td>7.55</td>\n",
       "    </tr>\n",
       "    <tr>\n",
       "      <th>72485</th>\n",
       "      <td>a5500fc87a64d9d7f3ee98bdc7b25838</td>\n",
       "      <td>1</td>\n",
       "      <td>59ebd2c07d59483d0855b5b3d5e18728</td>\n",
       "      <td>ea8482cd71df3c1969d7b9473ff13abc</td>\n",
       "      <td>2017-11-30 20:36:31</td>\n",
       "      <td>27.99</td>\n",
       "      <td>14.10</td>\n",
       "    </tr>\n",
       "    <tr>\n",
       "      <th>6128</th>\n",
       "      <td>0df040f84e5295f7894177ffe53850b8</td>\n",
       "      <td>1</td>\n",
       "      <td>65b89f415ce968a584fde133ae3ce3bf</td>\n",
       "      <td>0c8380b62e38e8a1e6adbeba7eb9688c</td>\n",
       "      <td>2017-02-09 23:05:28</td>\n",
       "      <td>74.90</td>\n",
       "      <td>18.80</td>\n",
       "    </tr>\n",
       "  </tbody>\n",
       "</table>\n",
       "</div>"
      ],
      "text/plain": [
       "                                order_id  order_item_id  \\\n",
       "102040  e793ab3ca23d5c9cabf0278e50dfa41a              1   \n",
       "72819   a60241fca336b3f14485dff30a172cab              2   \n",
       "38407   5739eb8dc1389c46e5ff8fc605a6ba44              1   \n",
       "72485   a5500fc87a64d9d7f3ee98bdc7b25838              1   \n",
       "6128    0df040f84e5295f7894177ffe53850b8              1   \n",
       "\n",
       "                              product_id                         seller_id  \\\n",
       "102040  0e2d365a247d105fefc31b17ab8706d9  289cdb325fb7e7f891c38608bf9e0962   \n",
       "72819   883cea107372a7f07b5830904f74952d  1c40343cc5d18c2d8248ac2f3366de34   \n",
       "38407   5bf681c3d83a332fbb49765e3e572145  537eb890efff034a88679788b647c564   \n",
       "72485   59ebd2c07d59483d0855b5b3d5e18728  ea8482cd71df3c1969d7b9473ff13abc   \n",
       "6128    65b89f415ce968a584fde133ae3ce3bf  0c8380b62e38e8a1e6adbeba7eb9688c   \n",
       "\n",
       "        shipping_limit_date   price  freight_value  \n",
       "102040  2018-07-26 10:20:45  132.20          16.03  \n",
       "72819   2018-07-31 22:24:21   64.99          23.26  \n",
       "38407   2018-05-23 21:15:40   20.90           7.55  \n",
       "72485   2017-11-30 20:36:31   27.99          14.10  \n",
       "6128    2017-02-09 23:05:28   74.90          18.80  "
      ]
     },
     "execution_count": 18,
     "metadata": {},
     "output_type": "execute_result"
    }
   ],
   "source": [
    "order_items.sample(5)"
   ]
  },
  {
   "cell_type": "markdown",
   "id": "2a878b9c",
   "metadata": {
    "papermill": {
     "duration": 0.061437,
     "end_time": "2021-11-30T11:06:34.518441",
     "exception": false,
     "start_time": "2021-11-30T11:06:34.457004",
     "status": "completed"
    },
    "tags": []
   },
   "source": [
    "There are no null values for order_items"
   ]
  },
  {
   "cell_type": "code",
   "execution_count": 19,
   "id": "28e9646d",
   "metadata": {
    "execution": {
     "iopub.execute_input": "2021-11-30T11:06:34.645476Z",
     "iopub.status.busy": "2021-11-30T11:06:34.644839Z",
     "iopub.status.idle": "2021-11-30T11:06:34.705210Z",
     "shell.execute_reply": "2021-11-30T11:06:34.706099Z",
     "shell.execute_reply.started": "2021-11-23T01:00:36.921424Z"
    },
    "papermill": {
     "duration": 0.126159,
     "end_time": "2021-11-30T11:06:34.706315",
     "exception": false,
     "start_time": "2021-11-30T11:06:34.580156",
     "status": "completed"
    },
    "tags": []
   },
   "outputs": [
    {
     "data": {
      "text/plain": [
       "order_id               0.0\n",
       "order_item_id          0.0\n",
       "product_id             0.0\n",
       "seller_id              0.0\n",
       "shipping_limit_date    0.0\n",
       "price                  0.0\n",
       "freight_value          0.0\n",
       "dtype: float64"
      ]
     },
     "execution_count": 19,
     "metadata": {},
     "output_type": "execute_result"
    }
   ],
   "source": [
    "order_items.isna().mean()"
   ]
  },
  {
   "cell_type": "markdown",
   "id": "ba51a764",
   "metadata": {
    "papermill": {
     "duration": 0.061986,
     "end_time": "2021-11-30T11:06:34.831326",
     "exception": false,
     "start_time": "2021-11-30T11:06:34.769340",
     "status": "completed"
    },
    "tags": []
   },
   "source": [
    "As we can see, an order can have more than one product."
   ]
  },
  {
   "cell_type": "code",
   "execution_count": 20,
   "id": "237da74c",
   "metadata": {
    "execution": {
     "iopub.execute_input": "2021-11-30T11:06:34.959090Z",
     "iopub.status.busy": "2021-11-30T11:06:34.958444Z",
     "iopub.status.idle": "2021-11-30T11:06:35.122178Z",
     "shell.execute_reply": "2021-11-30T11:06:35.121614Z",
     "shell.execute_reply.started": "2021-11-23T01:00:36.991493Z"
    },
    "papermill": {
     "duration": 0.228982,
     "end_time": "2021-11-30T11:06:35.122324",
     "exception": false,
     "start_time": "2021-11-30T11:06:34.893342",
     "status": "completed"
    },
    "tags": []
   },
   "outputs": [
    {
     "data": {
      "text/plain": [
       "order_id\n",
       "8272b63d03f5f79c56e9e4120aec44ef    21\n",
       "1b15974a0141d54e36626dca3fdc731a    20\n",
       "ab14fdcfbe524636d65ee38360e22ce8    20\n",
       "9ef13efd6949e4573a18964dd1bbe7f5    15\n",
       "428a2f660dc84138d969ccd69a0ab6d5    15\n",
       "                                    ..\n",
       "5a0911d70c1f85d3bed0df1bf693a6dd     1\n",
       "5a082b558a3798d3e36d93bfa8ca1eae     1\n",
       "5a07264682e0b8fbb3f166edbbffc6e8     1\n",
       "5a071192a28951b76774e5a760c8c9b7     1\n",
       "fffe41c64501cc87c801fd61db3f6244     1\n",
       "Length: 98666, dtype: int64"
      ]
     },
     "execution_count": 20,
     "metadata": {},
     "output_type": "execute_result"
    }
   ],
   "source": [
    "order_items.groupby('order_id').size().sort_values(ascending=False)"
   ]
  },
  {
   "cell_type": "markdown",
   "id": "7b527f22",
   "metadata": {
    "papermill": {
     "duration": 0.064275,
     "end_time": "2021-11-30T11:06:35.249321",
     "exception": false,
     "start_time": "2021-11-30T11:06:35.185046",
     "status": "completed"
    },
    "tags": []
   },
   "source": [
    "Since we have more than 1 product per order, we need to sum the price and the shipping value and get the maximum value of the shipping_limit_date for analysis."
   ]
  },
  {
   "cell_type": "code",
   "execution_count": 21,
   "id": "c1e93235",
   "metadata": {
    "execution": {
     "iopub.execute_input": "2021-11-30T11:06:35.405662Z",
     "iopub.status.busy": "2021-11-30T11:06:35.404906Z",
     "iopub.status.idle": "2021-11-30T11:06:44.151334Z",
     "shell.execute_reply": "2021-11-30T11:06:44.150680Z",
     "shell.execute_reply.started": "2021-11-23T01:00:37.152544Z"
    },
    "papermill": {
     "duration": 8.825612,
     "end_time": "2021-11-30T11:06:44.151497",
     "exception": false,
     "start_time": "2021-11-30T11:06:35.325885",
     "status": "completed"
    },
    "tags": []
   },
   "outputs": [],
   "source": [
    "order_items_silver = order_items.groupby('order_id').agg({'price':sum,'freight_value':sum,'shipping_limit_date':max }).reset_index()"
   ]
  },
  {
   "cell_type": "markdown",
   "id": "c148bd30",
   "metadata": {
    "papermill": {
     "duration": 0.076406,
     "end_time": "2021-11-30T11:06:44.294500",
     "exception": false,
     "start_time": "2021-11-30T11:06:44.218094",
     "status": "completed"
    },
    "tags": []
   },
   "source": [
    "As you can see, we have some outliers. how come the shipping is over R\\\\$ 500 and which order costs over R\\\\$4000?"
   ]
  },
  {
   "cell_type": "code",
   "execution_count": 22,
   "id": "036eb264",
   "metadata": {
    "execution": {
     "iopub.execute_input": "2021-11-30T11:06:44.430839Z",
     "iopub.status.busy": "2021-11-30T11:06:44.430149Z",
     "iopub.status.idle": "2021-11-30T11:06:45.026018Z",
     "shell.execute_reply": "2021-11-30T11:06:45.025351Z",
     "shell.execute_reply.started": "2021-11-23T01:00:46.075912Z"
    },
    "papermill": {
     "duration": 0.66679,
     "end_time": "2021-11-30T11:06:45.026199",
     "exception": false,
     "start_time": "2021-11-30T11:06:44.359409",
     "status": "completed"
    },
    "tags": []
   },
   "outputs": [
    {
     "data": {
      "text/plain": [
       "<AxesSubplot:xlabel='price', ylabel='freight_value'>"
      ]
     },
     "execution_count": 22,
     "metadata": {},
     "output_type": "execute_result"
    },
    {
     "data": {
      "image/png": "[encoded data removed]",
      "text/plain": [
       "<Figure size 576x504 with 1 Axes>"
      ]
     },
     "metadata": {},
     "output_type": "display_data"
    }
   ],
   "source": [
    "sns.scatterplot(x='price',y='freight_value',data=order_items_silver)"
   ]
  },
  {
   "cell_type": "markdown",
   "id": "e93c4a0d",
   "metadata": {
    "papermill": {
     "duration": 0.06467,
     "end_time": "2021-11-30T11:06:45.157263",
     "exception": false,
     "start_time": "2021-11-30T11:06:45.092593",
     "status": "completed"
    },
    "tags": []
   },
   "source": [
    "We decided to remove orders with a price over R$ 5000 and for the freight value we used logic as a value that is far away from [99% percentile](https://www.analyticsvidhya.com/blog/2021/05/feature-engineering-how-to-detect-and-remove-outliers-with-python-code/)."
   ]
  },
  {
   "cell_type": "code",
   "execution_count": 23,
   "id": "5b5b19a0",
   "metadata": {
    "execution": {
     "iopub.execute_input": "2021-11-30T11:06:45.295593Z",
     "iopub.status.busy": "2021-11-30T11:06:45.294829Z",
     "iopub.status.idle": "2021-11-30T11:06:45.323374Z",
     "shell.execute_reply": "2021-11-30T11:06:45.323892Z",
     "shell.execute_reply.started": "2021-11-23T01:00:46.710847Z"
    },
    "papermill": {
     "duration": 0.100363,
     "end_time": "2021-11-30T11:06:45.324084",
     "exception": false,
     "start_time": "2021-11-30T11:06:45.223721",
     "status": "completed"
    },
    "tags": []
   },
   "outputs": [
    {
     "data": {
      "text/html": [
       "<div>\n",
       "<style scoped>\n",
       "    .dataframe tbody tr th:only-of-type {\n",
       "        vertical-align: middle;\n",
       "    }\n",
       "\n",
       "    .dataframe tbody tr th {\n",
       "        vertical-align: top;\n",
       "    }\n",
       "\n",
       "    .dataframe thead th {\n",
       "        text-align: right;\n",
       "    }\n",
       "</style>\n",
       "<table border=\"1\" class=\"dataframe\">\n",
       "  <thead>\n",
       "    <tr style=\"text-align: right;\">\n",
       "      <th></th>\n",
       "      <th>price</th>\n",
       "      <th>freight_value</th>\n",
       "    </tr>\n",
       "  </thead>\n",
       "  <tbody>\n",
       "    <tr>\n",
       "      <th>count</th>\n",
       "      <td>98666.000000</td>\n",
       "      <td>98666.000000</td>\n",
       "    </tr>\n",
       "    <tr>\n",
       "      <th>mean</th>\n",
       "      <td>137.754076</td>\n",
       "      <td>22.823562</td>\n",
       "    </tr>\n",
       "    <tr>\n",
       "      <th>std</th>\n",
       "      <td>210.645145</td>\n",
       "      <td>21.650909</td>\n",
       "    </tr>\n",
       "    <tr>\n",
       "      <th>min</th>\n",
       "      <td>0.850000</td>\n",
       "      <td>0.000000</td>\n",
       "    </tr>\n",
       "    <tr>\n",
       "      <th>25%</th>\n",
       "      <td>45.900000</td>\n",
       "      <td>13.850000</td>\n",
       "    </tr>\n",
       "    <tr>\n",
       "      <th>50%</th>\n",
       "      <td>86.900000</td>\n",
       "      <td>17.170000</td>\n",
       "    </tr>\n",
       "    <tr>\n",
       "      <th>75%</th>\n",
       "      <td>149.900000</td>\n",
       "      <td>24.040000</td>\n",
       "    </tr>\n",
       "    <tr>\n",
       "      <th>max</th>\n",
       "      <td>13440.000000</td>\n",
       "      <td>1794.960000</td>\n",
       "    </tr>\n",
       "  </tbody>\n",
       "</table>\n",
       "</div>"
      ],
      "text/plain": [
       "              price  freight_value\n",
       "count  98666.000000   98666.000000\n",
       "mean     137.754076      22.823562\n",
       "std      210.645145      21.650909\n",
       "min        0.850000       0.000000\n",
       "25%       45.900000      13.850000\n",
       "50%       86.900000      17.170000\n",
       "75%      149.900000      24.040000\n",
       "max    13440.000000    1794.960000"
      ]
     },
     "execution_count": 23,
     "metadata": {},
     "output_type": "execute_result"
    }
   ],
   "source": [
    "order_items_silver.describe()"
   ]
  },
  {
   "cell_type": "code",
   "execution_count": 24,
   "id": "c025d382",
   "metadata": {
    "execution": {
     "iopub.execute_input": "2021-11-30T11:06:45.460899Z",
     "iopub.status.busy": "2021-11-30T11:06:45.460130Z",
     "iopub.status.idle": "2021-11-30T11:06:45.472954Z",
     "shell.execute_reply": "2021-11-30T11:06:45.472395Z",
     "shell.execute_reply.started": "2021-11-23T01:00:46.755584Z"
    },
    "papermill": {
     "duration": 0.084309,
     "end_time": "2021-11-30T11:06:45.473134",
     "exception": false,
     "start_time": "2021-11-30T11:06:45.388825",
     "status": "completed"
    },
    "tags": []
   },
   "outputs": [],
   "source": [
    "percentil_freight_value = order_items_silver['freight_value'].quantile(0.99)\n",
    "order_items_silver = order_items_silver[(order_items_silver['price'] <= 5000) & (order_items_silver['freight_value'] <= percentil_freight_value)]"
   ]
  },
  {
   "cell_type": "markdown",
   "id": "51ba537e",
   "metadata": {
    "papermill": {
     "duration": 0.064802,
     "end_time": "2021-11-30T11:06:45.603373",
     "exception": false,
     "start_time": "2021-11-30T11:06:45.538571",
     "status": "completed"
    },
    "tags": []
   },
   "source": [
    " As we can see, the average order price is R\\\\$ 132 and 50% of orders cost less than R\\\\$85. The average freight value is R\\\\$21.41 and 50% of the orders have a freight value of R\\\\$ 17."
   ]
  },
  {
   "cell_type": "code",
   "execution_count": 25,
   "id": "bbb62d79",
   "metadata": {
    "execution": {
     "iopub.execute_input": "2021-11-30T11:06:45.737760Z",
     "iopub.status.busy": "2021-11-30T11:06:45.736997Z",
     "iopub.status.idle": "2021-11-30T11:06:45.759287Z",
     "shell.execute_reply": "2021-11-30T11:06:45.759909Z",
     "shell.execute_reply.started": "2021-11-23T01:00:46.778021Z"
    },
    "papermill": {
     "duration": 0.091749,
     "end_time": "2021-11-30T11:06:45.760126",
     "exception": false,
     "start_time": "2021-11-30T11:06:45.668377",
     "status": "completed"
    },
    "tags": []
   },
   "outputs": [
    {
     "data": {
      "text/html": [
       "<div>\n",
       "<style scoped>\n",
       "    .dataframe tbody tr th:only-of-type {\n",
       "        vertical-align: middle;\n",
       "    }\n",
       "\n",
       "    .dataframe tbody tr th {\n",
       "        vertical-align: top;\n",
       "    }\n",
       "\n",
       "    .dataframe thead th {\n",
       "        text-align: right;\n",
       "    }\n",
       "</style>\n",
       "<table border=\"1\" class=\"dataframe\">\n",
       "  <thead>\n",
       "    <tr style=\"text-align: right;\">\n",
       "      <th></th>\n",
       "      <th>price</th>\n",
       "      <th>freight_value</th>\n",
       "    </tr>\n",
       "  </thead>\n",
       "  <tbody>\n",
       "    <tr>\n",
       "      <th>count</th>\n",
       "      <td>97679.000000</td>\n",
       "      <td>97679.000000</td>\n",
       "    </tr>\n",
       "    <tr>\n",
       "      <th>mean</th>\n",
       "      <td>132.046700</td>\n",
       "      <td>21.423227</td>\n",
       "    </tr>\n",
       "    <tr>\n",
       "      <th>std</th>\n",
       "      <td>185.015685</td>\n",
       "      <td>14.133667</td>\n",
       "    </tr>\n",
       "    <tr>\n",
       "      <th>min</th>\n",
       "      <td>0.850000</td>\n",
       "      <td>0.000000</td>\n",
       "    </tr>\n",
       "    <tr>\n",
       "      <th>25%</th>\n",
       "      <td>45.900000</td>\n",
       "      <td>13.790000</td>\n",
       "    </tr>\n",
       "    <tr>\n",
       "      <th>50%</th>\n",
       "      <td>85.000000</td>\n",
       "      <td>17.070000</td>\n",
       "    </tr>\n",
       "    <tr>\n",
       "      <th>75%</th>\n",
       "      <td>149.900000</td>\n",
       "      <td>23.700000</td>\n",
       "    </tr>\n",
       "    <tr>\n",
       "      <th>max</th>\n",
       "      <td>4690.000000</td>\n",
       "      <td>104.980000</td>\n",
       "    </tr>\n",
       "  </tbody>\n",
       "</table>\n",
       "</div>"
      ],
      "text/plain": [
       "              price  freight_value\n",
       "count  97679.000000   97679.000000\n",
       "mean     132.046700      21.423227\n",
       "std      185.015685      14.133667\n",
       "min        0.850000       0.000000\n",
       "25%       45.900000      13.790000\n",
       "50%       85.000000      17.070000\n",
       "75%      149.900000      23.700000\n",
       "max     4690.000000     104.980000"
      ]
     },
     "execution_count": 25,
     "metadata": {},
     "output_type": "execute_result"
    }
   ],
   "source": [
    "order_items_silver.describe()"
   ]
  },
  {
   "cell_type": "code",
   "execution_count": 26,
   "id": "c7b2aec6",
   "metadata": {
    "execution": {
     "iopub.execute_input": "2021-11-30T11:06:45.900048Z",
     "iopub.status.busy": "2021-11-30T11:06:45.899396Z",
     "iopub.status.idle": "2021-11-30T11:06:45.914908Z",
     "shell.execute_reply": "2021-11-30T11:06:45.915453Z",
     "shell.execute_reply.started": "2021-11-23T01:00:46.809811Z"
    },
    "papermill": {
     "duration": 0.089184,
     "end_time": "2021-11-30T11:06:45.915707",
     "exception": false,
     "start_time": "2021-11-30T11:06:45.826523",
     "status": "completed"
    },
    "tags": []
   },
   "outputs": [
    {
     "data": {
      "text/html": [
       "<div>\n",
       "<style scoped>\n",
       "    .dataframe tbody tr th:only-of-type {\n",
       "        vertical-align: middle;\n",
       "    }\n",
       "\n",
       "    .dataframe tbody tr th {\n",
       "        vertical-align: top;\n",
       "    }\n",
       "\n",
       "    .dataframe thead th {\n",
       "        text-align: right;\n",
       "    }\n",
       "</style>\n",
       "<table border=\"1\" class=\"dataframe\">\n",
       "  <thead>\n",
       "    <tr style=\"text-align: right;\">\n",
       "      <th></th>\n",
       "      <th>order_id</th>\n",
       "      <th>price</th>\n",
       "      <th>freight_value</th>\n",
       "      <th>shipping_limit_date</th>\n",
       "    </tr>\n",
       "  </thead>\n",
       "  <tbody>\n",
       "    <tr>\n",
       "      <th>0</th>\n",
       "      <td>00010242fe8c5a6d1ba2dd792cb16214</td>\n",
       "      <td>58.90</td>\n",
       "      <td>13.29</td>\n",
       "      <td>2017-09-19 09:45:35</td>\n",
       "    </tr>\n",
       "    <tr>\n",
       "      <th>1</th>\n",
       "      <td>00018f77f2f0320c557190d7a144bdd3</td>\n",
       "      <td>239.90</td>\n",
       "      <td>19.93</td>\n",
       "      <td>2017-05-03 11:05:13</td>\n",
       "    </tr>\n",
       "    <tr>\n",
       "      <th>2</th>\n",
       "      <td>000229ec398224ef6ca0657da4fc703e</td>\n",
       "      <td>199.00</td>\n",
       "      <td>17.87</td>\n",
       "      <td>2018-01-18 14:48:30</td>\n",
       "    </tr>\n",
       "    <tr>\n",
       "      <th>3</th>\n",
       "      <td>00024acbcdf0a6daa1e931b038114c75</td>\n",
       "      <td>12.99</td>\n",
       "      <td>12.79</td>\n",
       "      <td>2018-08-15 10:10:18</td>\n",
       "    </tr>\n",
       "    <tr>\n",
       "      <th>4</th>\n",
       "      <td>00042b26cf59d7ce69dfabb4e55b4fd9</td>\n",
       "      <td>199.90</td>\n",
       "      <td>18.14</td>\n",
       "      <td>2017-02-13 13:57:51</td>\n",
       "    </tr>\n",
       "    <tr>\n",
       "      <th>...</th>\n",
       "      <td>...</td>\n",
       "      <td>...</td>\n",
       "      <td>...</td>\n",
       "      <td>...</td>\n",
       "    </tr>\n",
       "    <tr>\n",
       "      <th>98661</th>\n",
       "      <td>fffc94f6ce00a00581880bf54a75a037</td>\n",
       "      <td>299.99</td>\n",
       "      <td>43.41</td>\n",
       "      <td>2018-05-02 04:11:01</td>\n",
       "    </tr>\n",
       "    <tr>\n",
       "      <th>98662</th>\n",
       "      <td>fffcd46ef2263f404302a634eb57f7eb</td>\n",
       "      <td>350.00</td>\n",
       "      <td>36.53</td>\n",
       "      <td>2018-07-20 04:31:48</td>\n",
       "    </tr>\n",
       "    <tr>\n",
       "      <th>98663</th>\n",
       "      <td>fffce4705a9662cd70adb13d4a31832d</td>\n",
       "      <td>99.90</td>\n",
       "      <td>16.95</td>\n",
       "      <td>2017-10-30 17:14:25</td>\n",
       "    </tr>\n",
       "    <tr>\n",
       "      <th>98664</th>\n",
       "      <td>fffe18544ffabc95dfada21779c9644f</td>\n",
       "      <td>55.99</td>\n",
       "      <td>8.72</td>\n",
       "      <td>2017-08-21 00:04:32</td>\n",
       "    </tr>\n",
       "    <tr>\n",
       "      <th>98665</th>\n",
       "      <td>fffe41c64501cc87c801fd61db3f6244</td>\n",
       "      <td>43.00</td>\n",
       "      <td>12.79</td>\n",
       "      <td>2018-06-12 17:10:13</td>\n",
       "    </tr>\n",
       "  </tbody>\n",
       "</table>\n",
       "<p>97679 rows × 4 columns</p>\n",
       "</div>"
      ],
      "text/plain": [
       "                               order_id   price  freight_value  \\\n",
       "0      00010242fe8c5a6d1ba2dd792cb16214   58.90          13.29   \n",
       "1      00018f77f2f0320c557190d7a144bdd3  239.90          19.93   \n",
       "2      000229ec398224ef6ca0657da4fc703e  199.00          17.87   \n",
       "3      00024acbcdf0a6daa1e931b038114c75   12.99          12.79   \n",
       "4      00042b26cf59d7ce69dfabb4e55b4fd9  199.90          18.14   \n",
       "...                                 ...     ...            ...   \n",
       "98661  fffc94f6ce00a00581880bf54a75a037  299.99          43.41   \n",
       "98662  fffcd46ef2263f404302a634eb57f7eb  350.00          36.53   \n",
       "98663  fffce4705a9662cd70adb13d4a31832d   99.90          16.95   \n",
       "98664  fffe18544ffabc95dfada21779c9644f   55.99           8.72   \n",
       "98665  fffe41c64501cc87c801fd61db3f6244   43.00          12.79   \n",
       "\n",
       "       shipping_limit_date  \n",
       "0      2017-09-19 09:45:35  \n",
       "1      2017-05-03 11:05:13  \n",
       "2      2018-01-18 14:48:30  \n",
       "3      2018-08-15 10:10:18  \n",
       "4      2017-02-13 13:57:51  \n",
       "...                    ...  \n",
       "98661  2018-05-02 04:11:01  \n",
       "98662  2018-07-20 04:31:48  \n",
       "98663  2017-10-30 17:14:25  \n",
       "98664  2017-08-21 00:04:32  \n",
       "98665  2018-06-12 17:10:13  \n",
       "\n",
       "[97679 rows x 4 columns]"
      ]
     },
     "execution_count": 26,
     "metadata": {},
     "output_type": "execute_result"
    }
   ],
   "source": [
    "order_items_silver"
   ]
  },
  {
   "cell_type": "code",
   "execution_count": 27,
   "id": "c6755039",
   "metadata": {
    "execution": {
     "iopub.execute_input": "2021-11-30T11:06:46.056834Z",
     "iopub.status.busy": "2021-11-30T11:06:46.056000Z",
     "iopub.status.idle": "2021-11-30T11:06:46.160612Z",
     "shell.execute_reply": "2021-11-30T11:06:46.159891Z",
     "shell.execute_reply.started": "2021-11-23T01:00:46.831864Z"
    },
    "papermill": {
     "duration": 0.176358,
     "end_time": "2021-11-30T11:06:46.160790",
     "exception": false,
     "start_time": "2021-11-30T11:06:45.984432",
     "status": "completed"
    },
    "tags": []
   },
   "outputs": [
    {
     "name": "stdout",
     "output_type": "stream",
     "text": [
      "<class 'pandas.core.frame.DataFrame'>\n",
      "RangeIndex: 99441 entries, 0 to 99440\n",
      "Data columns (total 8 columns):\n",
      " #   Column                         Non-Null Count  Dtype \n",
      "---  ------                         --------------  ----- \n",
      " 0   order_id                       99441 non-null  object\n",
      " 1   customer_id                    99441 non-null  object\n",
      " 2   order_status                   99441 non-null  object\n",
      " 3   order_purchase_timestamp       99441 non-null  object\n",
      " 4   order_approved_at              99281 non-null  object\n",
      " 5   order_delivered_carrier_date   97658 non-null  object\n",
      " 6   order_delivered_customer_date  96476 non-null  object\n",
      " 7   order_estimated_delivery_date  99441 non-null  object\n",
      "dtypes: object(8)\n",
      "memory usage: 6.1+ MB\n"
     ]
    }
   ],
   "source": [
    "orders.info()"
   ]
  },
  {
   "cell_type": "code",
   "execution_count": 28,
   "id": "877535ce",
   "metadata": {
    "execution": {
     "iopub.execute_input": "2021-11-30T11:06:46.348877Z",
     "iopub.status.busy": "2021-11-30T11:06:46.347307Z",
     "iopub.status.idle": "2021-11-30T11:06:46.544887Z",
     "shell.execute_reply": "2021-11-30T11:06:46.544303Z",
     "shell.execute_reply.started": "2021-11-23T01:00:46.989598Z"
    },
    "papermill": {
     "duration": 0.317894,
     "end_time": "2021-11-30T11:06:46.545055",
     "exception": false,
     "start_time": "2021-11-30T11:06:46.227161",
     "status": "completed"
    },
    "tags": []
   },
   "outputs": [],
   "source": [
    "columns_timestamp = ['order_purchase_timestamp','order_approved_at',\n",
    "                     'order_delivered_carrier_date', 'order_delivered_customer_date', 'order_estimated_delivery_date']\n",
    "for column in columns_timestamp:\n",
    "    orders[column] = pd.to_datetime(orders[column])"
   ]
  },
  {
   "cell_type": "code",
   "execution_count": 29,
   "id": "dac9e8e1",
   "metadata": {
    "execution": {
     "iopub.execute_input": "2021-11-30T11:06:46.684350Z",
     "iopub.status.busy": "2021-11-30T11:06:46.683634Z",
     "iopub.status.idle": "2021-11-30T11:06:46.690869Z",
     "shell.execute_reply": "2021-11-30T11:06:46.691466Z",
     "shell.execute_reply.started": "2021-11-23T01:00:47.24144Z"
    },
    "papermill": {
     "duration": 0.080415,
     "end_time": "2021-11-30T11:06:46.691665",
     "exception": false,
     "start_time": "2021-11-30T11:06:46.611250",
     "status": "completed"
    },
    "tags": []
   },
   "outputs": [],
   "source": [
    "orders['diff_delivery_days'] = (orders['order_estimated_delivery_date'] - orders['order_delivered_customer_date']).dt.days"
   ]
  },
  {
   "cell_type": "markdown",
   "id": "89994129",
   "metadata": {
    "papermill": {
     "duration": 0.066312,
     "end_time": "2021-11-30T11:06:46.825035",
     "exception": false,
     "start_time": "2021-11-30T11:06:46.758723",
     "status": "completed"
    },
    "tags": []
   },
   "source": [
    "Only 7,87% is above of estimated delivery"
   ]
  },
  {
   "cell_type": "code",
   "execution_count": 30,
   "id": "9b3bcd4c",
   "metadata": {
    "execution": {
     "iopub.execute_input": "2021-11-30T11:06:46.969929Z",
     "iopub.status.busy": "2021-11-30T11:06:46.969261Z",
     "iopub.status.idle": "2021-11-30T11:06:46.982494Z",
     "shell.execute_reply": "2021-11-30T11:06:46.982949Z",
     "shell.execute_reply.started": "2021-11-23T01:00:47.260338Z"
    },
    "papermill": {
     "duration": 0.091743,
     "end_time": "2021-11-30T11:06:46.983182",
     "exception": false,
     "start_time": "2021-11-30T11:06:46.891439",
     "status": "completed"
    },
    "tags": []
   },
   "outputs": [
    {
     "data": {
      "text/plain": [
       "diff_delivery_days\n",
       "False    91614\n",
       "True      7827\n",
       "dtype: int64"
      ]
     },
     "execution_count": 30,
     "metadata": {},
     "output_type": "execute_result"
    }
   ],
   "source": [
    "orders.groupby(orders['diff_delivery_days'] < 0).size()"
   ]
  },
  {
   "cell_type": "markdown",
   "id": "fdca7dae",
   "metadata": {
    "papermill": {
     "duration": 0.06598,
     "end_time": "2021-11-30T11:06:47.115495",
     "exception": false,
     "start_time": "2021-11-30T11:06:47.049515",
     "status": "completed"
    },
    "tags": []
   },
   "source": [
    "As we can see, the average difference between the estimated delivery and the actual delivery is 10 days, which is a bit high. Another fact is that an order was delivery 6 month later and other order was a high estimated date."
   ]
  },
  {
   "cell_type": "code",
   "execution_count": 31,
   "id": "e175385a",
   "metadata": {
    "execution": {
     "iopub.execute_input": "2021-11-30T11:06:47.251958Z",
     "iopub.status.busy": "2021-11-30T11:06:47.251316Z",
     "iopub.status.idle": "2021-11-30T11:06:49.830328Z",
     "shell.execute_reply": "2021-11-30T11:06:49.829453Z",
     "shell.execute_reply.started": "2021-11-23T01:00:47.286991Z"
    },
    "papermill": {
     "duration": 2.648622,
     "end_time": "2021-11-30T11:06:49.830513",
     "exception": false,
     "start_time": "2021-11-30T11:06:47.181891",
     "status": "completed"
    },
    "tags": []
   },
   "outputs": [
    {
     "name": "stdout",
     "output_type": "stream",
     "text": [
      "count    96476.000000\n",
      "mean        10.876881\n",
      "std         10.183854\n",
      "min       -189.000000\n",
      "25%          6.000000\n",
      "50%         11.000000\n",
      "75%         16.000000\n",
      "max        146.000000\n",
      "Name: diff_delivery_days, dtype: float64\n"
     ]
    },
    {
     "data": {
      "text/plain": [
       "<AxesSubplot:xlabel='diff_delivery_days', ylabel='Count'>"
      ]
     },
     "execution_count": 31,
     "metadata": {},
     "output_type": "execute_result"
    },
    {
     "data": {
      "image/png": "[encoded data removed]",
      "text/plain": [
       "<Figure size 576x504 with 1 Axes>"
      ]
     },
     "metadata": {},
     "output_type": "display_data"
    }
   ],
   "source": [
    "print(orders['diff_delivery_days'].describe())\n",
    "sns.histplot(x='diff_delivery_days', data=orders, kde=True)"
   ]
  },
  {
   "cell_type": "markdown",
   "id": "fbc91f0e",
   "metadata": {
    "papermill": {
     "duration": 0.070001,
     "end_time": "2021-11-30T11:06:49.969419",
     "exception": false,
     "start_time": "2021-11-30T11:06:49.899418",
     "status": "completed"
    },
    "tags": []
   },
   "source": [
    "We will remove the max and min value of difference."
   ]
  },
  {
   "cell_type": "code",
   "execution_count": 32,
   "id": "eebac6a2",
   "metadata": {
    "execution": {
     "iopub.execute_input": "2021-11-30T11:06:50.110931Z",
     "iopub.status.busy": "2021-11-30T11:06:50.110203Z",
     "iopub.status.idle": "2021-11-30T11:06:50.173733Z",
     "shell.execute_reply": "2021-11-30T11:06:50.174278Z",
     "shell.execute_reply.started": "2021-11-23T01:00:50.086304Z"
    },
    "papermill": {
     "duration": 0.135734,
     "end_time": "2021-11-30T11:06:50.174476",
     "exception": false,
     "start_time": "2021-11-30T11:06:50.038742",
     "status": "completed"
    },
    "tags": []
   },
   "outputs": [
    {
     "data": {
      "text/html": [
       "<div>\n",
       "<style scoped>\n",
       "    .dataframe tbody tr th:only-of-type {\n",
       "        vertical-align: middle;\n",
       "    }\n",
       "\n",
       "    .dataframe tbody tr th {\n",
       "        vertical-align: top;\n",
       "    }\n",
       "\n",
       "    .dataframe thead th {\n",
       "        text-align: right;\n",
       "    }\n",
       "</style>\n",
       "<table border=\"1\" class=\"dataframe\">\n",
       "  <thead>\n",
       "    <tr style=\"text-align: right;\">\n",
       "      <th></th>\n",
       "      <th>order_id</th>\n",
       "      <th>customer_id</th>\n",
       "      <th>order_status</th>\n",
       "      <th>order_purchase_timestamp</th>\n",
       "      <th>order_approved_at</th>\n",
       "      <th>order_delivered_carrier_date</th>\n",
       "      <th>order_delivered_customer_date</th>\n",
       "      <th>order_estimated_delivery_date</th>\n",
       "      <th>diff_delivery_days</th>\n",
       "    </tr>\n",
       "  </thead>\n",
       "  <tbody>\n",
       "    <tr>\n",
       "      <th>0</th>\n",
       "      <td>e481f51cbdc54678b7cc49136f2d6af7</td>\n",
       "      <td>9ef432eb6251297304e76186b10a928d</td>\n",
       "      <td>delivered</td>\n",
       "      <td>2017-10-02 10:56:33</td>\n",
       "      <td>2017-10-02 11:07:15</td>\n",
       "      <td>2017-10-04 19:55:00</td>\n",
       "      <td>2017-10-10 21:25:13</td>\n",
       "      <td>2017-10-18</td>\n",
       "      <td>7.0</td>\n",
       "    </tr>\n",
       "    <tr>\n",
       "      <th>1</th>\n",
       "      <td>53cdb2fc8bc7dce0b6741e2150273451</td>\n",
       "      <td>b0830fb4747a6c6d20dea0b8c802d7ef</td>\n",
       "      <td>delivered</td>\n",
       "      <td>2018-07-24 20:41:37</td>\n",
       "      <td>2018-07-26 03:24:27</td>\n",
       "      <td>2018-07-26 14:31:00</td>\n",
       "      <td>2018-08-07 15:27:45</td>\n",
       "      <td>2018-08-13</td>\n",
       "      <td>5.0</td>\n",
       "    </tr>\n",
       "    <tr>\n",
       "      <th>2</th>\n",
       "      <td>47770eb9100c2d0c44946d9cf07ec65d</td>\n",
       "      <td>41ce2a54c0b03bf3443c3d931a367089</td>\n",
       "      <td>delivered</td>\n",
       "      <td>2018-08-08 08:38:49</td>\n",
       "      <td>2018-08-08 08:55:23</td>\n",
       "      <td>2018-08-08 13:50:00</td>\n",
       "      <td>2018-08-17 18:06:29</td>\n",
       "      <td>2018-09-04</td>\n",
       "      <td>17.0</td>\n",
       "    </tr>\n",
       "    <tr>\n",
       "      <th>3</th>\n",
       "      <td>949d5b44dbf5de918fe9c16f97b45f8a</td>\n",
       "      <td>f88197465ea7920adcdbec7375364d82</td>\n",
       "      <td>delivered</td>\n",
       "      <td>2017-11-18 19:28:06</td>\n",
       "      <td>2017-11-18 19:45:59</td>\n",
       "      <td>2017-11-22 13:39:59</td>\n",
       "      <td>2017-12-02 00:28:42</td>\n",
       "      <td>2017-12-15</td>\n",
       "      <td>12.0</td>\n",
       "    </tr>\n",
       "    <tr>\n",
       "      <th>4</th>\n",
       "      <td>ad21c59c0840e6cb83a9ceb5573f8159</td>\n",
       "      <td>8ab97904e6daea8866dbdbc4fb7aad2c</td>\n",
       "      <td>delivered</td>\n",
       "      <td>2018-02-13 21:18:39</td>\n",
       "      <td>2018-02-13 22:20:29</td>\n",
       "      <td>2018-02-14 19:46:34</td>\n",
       "      <td>2018-02-16 18:17:02</td>\n",
       "      <td>2018-02-26</td>\n",
       "      <td>9.0</td>\n",
       "    </tr>\n",
       "    <tr>\n",
       "      <th>...</th>\n",
       "      <td>...</td>\n",
       "      <td>...</td>\n",
       "      <td>...</td>\n",
       "      <td>...</td>\n",
       "      <td>...</td>\n",
       "      <td>...</td>\n",
       "      <td>...</td>\n",
       "      <td>...</td>\n",
       "      <td>...</td>\n",
       "    </tr>\n",
       "    <tr>\n",
       "      <th>99436</th>\n",
       "      <td>9c5dedf39a927c1b2549525ed64a053c</td>\n",
       "      <td>39bd1228ee8140590ac3aca26f2dfe00</td>\n",
       "      <td>delivered</td>\n",
       "      <td>2017-03-09 09:54:05</td>\n",
       "      <td>2017-03-09 09:54:05</td>\n",
       "      <td>2017-03-10 11:18:03</td>\n",
       "      <td>2017-03-17 15:08:01</td>\n",
       "      <td>2017-03-28</td>\n",
       "      <td>10.0</td>\n",
       "    </tr>\n",
       "    <tr>\n",
       "      <th>99437</th>\n",
       "      <td>63943bddc261676b46f01ca7ac2f7bd8</td>\n",
       "      <td>1fca14ff2861355f6e5f14306ff977a7</td>\n",
       "      <td>delivered</td>\n",
       "      <td>2018-02-06 12:58:58</td>\n",
       "      <td>2018-02-06 13:10:37</td>\n",
       "      <td>2018-02-07 23:22:42</td>\n",
       "      <td>2018-02-28 17:37:56</td>\n",
       "      <td>2018-03-02</td>\n",
       "      <td>1.0</td>\n",
       "    </tr>\n",
       "    <tr>\n",
       "      <th>99438</th>\n",
       "      <td>83c1379a015df1e13d02aae0204711ab</td>\n",
       "      <td>1aa71eb042121263aafbe80c1b562c9c</td>\n",
       "      <td>delivered</td>\n",
       "      <td>2017-08-27 14:46:43</td>\n",
       "      <td>2017-08-27 15:04:16</td>\n",
       "      <td>2017-08-28 20:52:26</td>\n",
       "      <td>2017-09-21 11:24:17</td>\n",
       "      <td>2017-09-27</td>\n",
       "      <td>5.0</td>\n",
       "    </tr>\n",
       "    <tr>\n",
       "      <th>99439</th>\n",
       "      <td>11c177c8e97725db2631073c19f07b62</td>\n",
       "      <td>b331b74b18dc79bcdf6532d51e1637c1</td>\n",
       "      <td>delivered</td>\n",
       "      <td>2018-01-08 21:28:27</td>\n",
       "      <td>2018-01-08 21:36:21</td>\n",
       "      <td>2018-01-12 15:35:03</td>\n",
       "      <td>2018-01-25 23:32:54</td>\n",
       "      <td>2018-02-15</td>\n",
       "      <td>20.0</td>\n",
       "    </tr>\n",
       "    <tr>\n",
       "      <th>99440</th>\n",
       "      <td>66dea50a8b16d9b4dee7af250b4be1a5</td>\n",
       "      <td>edb027a75a1449115f6b43211ae02a24</td>\n",
       "      <td>delivered</td>\n",
       "      <td>2018-03-08 20:57:30</td>\n",
       "      <td>2018-03-09 11:20:28</td>\n",
       "      <td>2018-03-09 22:11:59</td>\n",
       "      <td>2018-03-16 13:08:30</td>\n",
       "      <td>2018-04-03</td>\n",
       "      <td>17.0</td>\n",
       "    </tr>\n",
       "  </tbody>\n",
       "</table>\n",
       "<p>96474 rows × 9 columns</p>\n",
       "</div>"
      ],
      "text/plain": [
       "                               order_id                       customer_id  \\\n",
       "0      e481f51cbdc54678b7cc49136f2d6af7  9ef432eb6251297304e76186b10a928d   \n",
       "1      53cdb2fc8bc7dce0b6741e2150273451  b0830fb4747a6c6d20dea0b8c802d7ef   \n",
       "2      47770eb9100c2d0c44946d9cf07ec65d  41ce2a54c0b03bf3443c3d931a367089   \n",
       "3      949d5b44dbf5de918fe9c16f97b45f8a  f88197465ea7920adcdbec7375364d82   \n",
       "4      ad21c59c0840e6cb83a9ceb5573f8159  8ab97904e6daea8866dbdbc4fb7aad2c   \n",
       "...                                 ...                               ...   \n",
       "99436  9c5dedf39a927c1b2549525ed64a053c  39bd1228ee8140590ac3aca26f2dfe00   \n",
       "99437  63943bddc261676b46f01ca7ac2f7bd8  1fca14ff2861355f6e5f14306ff977a7   \n",
       "99438  83c1379a015df1e13d02aae0204711ab  1aa71eb042121263aafbe80c1b562c9c   \n",
       "99439  11c177c8e97725db2631073c19f07b62  b331b74b18dc79bcdf6532d51e1637c1   \n",
       "99440  66dea50a8b16d9b4dee7af250b4be1a5  edb027a75a1449115f6b43211ae02a24   \n",
       "\n",
       "      order_status order_purchase_timestamp   order_approved_at  \\\n",
       "0        delivered      2017-10-02 10:56:33 2017-10-02 11:07:15   \n",
       "1        delivered      2018-07-24 20:41:37 2018-07-26 03:24:27   \n",
       "2        delivered      2018-08-08 08:38:49 2018-08-08 08:55:23   \n",
       "3        delivered      2017-11-18 19:28:06 2017-11-18 19:45:59   \n",
       "4        delivered      2018-02-13 21:18:39 2018-02-13 22:20:29   \n",
       "...            ...                      ...                 ...   \n",
       "99436    delivered      2017-03-09 09:54:05 2017-03-09 09:54:05   \n",
       "99437    delivered      2018-02-06 12:58:58 2018-02-06 13:10:37   \n",
       "99438    delivered      2017-08-27 14:46:43 2017-08-27 15:04:16   \n",
       "99439    delivered      2018-01-08 21:28:27 2018-01-08 21:36:21   \n",
       "99440    delivered      2018-03-08 20:57:30 2018-03-09 11:20:28   \n",
       "\n",
       "      order_delivered_carrier_date order_delivered_customer_date  \\\n",
       "0              2017-10-04 19:55:00           2017-10-10 21:25:13   \n",
       "1              2018-07-26 14:31:00           2018-08-07 15:27:45   \n",
       "2              2018-08-08 13:50:00           2018-08-17 18:06:29   \n",
       "3              2017-11-22 13:39:59           2017-12-02 00:28:42   \n",
       "4              2018-02-14 19:46:34           2018-02-16 18:17:02   \n",
       "...                            ...                           ...   \n",
       "99436          2017-03-10 11:18:03           2017-03-17 15:08:01   \n",
       "99437          2018-02-07 23:22:42           2018-02-28 17:37:56   \n",
       "99438          2017-08-28 20:52:26           2017-09-21 11:24:17   \n",
       "99439          2018-01-12 15:35:03           2018-01-25 23:32:54   \n",
       "99440          2018-03-09 22:11:59           2018-03-16 13:08:30   \n",
       "\n",
       "      order_estimated_delivery_date  diff_delivery_days  \n",
       "0                        2017-10-18                 7.0  \n",
       "1                        2018-08-13                 5.0  \n",
       "2                        2018-09-04                17.0  \n",
       "3                        2017-12-15                12.0  \n",
       "4                        2018-02-26                 9.0  \n",
       "...                             ...                 ...  \n",
       "99436                    2017-03-28                10.0  \n",
       "99437                    2018-03-02                 1.0  \n",
       "99438                    2017-09-27                 5.0  \n",
       "99439                    2018-02-15                20.0  \n",
       "99440                    2018-04-03                17.0  \n",
       "\n",
       "[96474 rows x 9 columns]"
      ]
     },
     "execution_count": 32,
     "metadata": {},
     "output_type": "execute_result"
    }
   ],
   "source": [
    "orders[(orders['diff_delivery_days'] > min(orders['diff_delivery_days'])) & (orders['diff_delivery_days'] < max(orders['diff_delivery_days'])) ]"
   ]
  },
  {
   "cell_type": "code",
   "execution_count": 33,
   "id": "0c474ef6",
   "metadata": {
    "execution": {
     "iopub.execute_input": "2021-11-30T11:06:50.317783Z",
     "iopub.status.busy": "2021-11-30T11:06:50.316666Z",
     "iopub.status.idle": "2021-11-30T11:06:50.456216Z",
     "shell.execute_reply": "2021-11-30T11:06:50.456761Z",
     "shell.execute_reply.started": "2021-11-23T01:00:50.153169Z"
    },
    "papermill": {
     "duration": 0.213344,
     "end_time": "2021-11-30T11:06:50.456980",
     "exception": false,
     "start_time": "2021-11-30T11:06:50.243636",
     "status": "completed"
    },
    "tags": []
   },
   "outputs": [],
   "source": [
    "orders_silver = orders.merge(order_items_silver,on='order_id',how='inner')"
   ]
  },
  {
   "cell_type": "code",
   "execution_count": 34,
   "id": "c67475c8",
   "metadata": {
    "execution": {
     "iopub.execute_input": "2021-11-30T11:06:50.604769Z",
     "iopub.status.busy": "2021-11-30T11:06:50.603741Z",
     "iopub.status.idle": "2021-11-30T11:06:50.612080Z",
     "shell.execute_reply": "2021-11-30T11:06:50.612706Z",
     "shell.execute_reply.started": "2021-11-23T01:00:50.270036Z"
    },
    "papermill": {
     "duration": 0.084035,
     "end_time": "2021-11-30T11:06:50.612921",
     "exception": false,
     "start_time": "2021-11-30T11:06:50.528886",
     "status": "completed"
    },
    "tags": []
   },
   "outputs": [],
   "source": [
    "def plot_ts_decompose(decompose,figsize=(12,8)):\n",
    "    fig, ax = plt.subplots(4,1,figsize=figsize)\n",
    "    sns.lineplot(data=decompose.observed,x=decompose.observed.index,y=decompose.observed,ax=ax[0])\n",
    "    sns.lineplot(data=decompose.trend,x=decompose.trend.index,y=decompose.trend,ax=ax[1])\n",
    "    sns.lineplot(data=decompose.seasonal,x=decompose.seasonal.index,y=decompose.seasonal,ax=ax[2])\n",
    "    sns.lineplot(data=decompose.resid,x=decompose.resid.index,y=decompose.resid,ax=ax[3])\n",
    "    plt.tight_layout()"
   ]
  },
  {
   "cell_type": "markdown",
   "id": "5d00a846",
   "metadata": {
    "papermill": {
     "duration": 0.070394,
     "end_time": "2021-11-30T11:06:50.752921",
     "exception": false,
     "start_time": "2021-11-30T11:06:50.682527",
     "status": "completed"
    },
    "tags": []
   },
   "source": [
    "As we can see, there is a seasonality in the series in which in the months of December there is a drop in the purchase of products and in the months of January, March, and May there is an increase. Other fact the series is a trend to incresing."
   ]
  },
  {
   "cell_type": "code",
   "execution_count": 35,
   "id": "adc5da09",
   "metadata": {
    "execution": {
     "iopub.execute_input": "2021-11-30T11:06:50.901022Z",
     "iopub.status.busy": "2021-11-30T11:06:50.899971Z",
     "iopub.status.idle": "2021-11-30T11:06:52.070394Z",
     "shell.execute_reply": "2021-11-30T11:06:52.070951Z",
     "shell.execute_reply.started": "2021-11-23T01:00:50.280929Z"
    },
    "papermill": {
     "duration": 1.245467,
     "end_time": "2021-11-30T11:06:52.071165",
     "exception": false,
     "start_time": "2021-11-30T11:06:50.825698",
     "status": "completed"
    },
    "tags": []
   },
   "outputs": [
    {
     "data": {
      "image/png": "[encoded data removed]",
      "text/plain": [
       "<Figure size 864x576 with 4 Axes>"
      ]
     },
     "metadata": {},
     "output_type": "display_data"
    }
   ],
   "source": [
    "orders_silver['month_year_purchase'] = orders_silver['order_purchase_timestamp'].dt.to_period('M')\n",
    "order_purchase_timestamp = orders_silver.groupby('month_year_purchase').size()\n",
    "order_purchase_timestamp.index = order_purchase_timestamp.index.astype('datetime64[ns]')\n",
    "\n",
    "decompose = seasonal_decompose(order_purchase_timestamp,model='additive',period=12, extrapolate_trend=12)\n",
    "plot_ts_decompose(decompose)"
   ]
  },
  {
   "cell_type": "code",
   "execution_count": 36,
   "id": "9a4ad8a3",
   "metadata": {
    "execution": {
     "iopub.execute_input": "2021-11-30T11:06:52.217006Z",
     "iopub.status.busy": "2021-11-30T11:06:52.215977Z",
     "iopub.status.idle": "2021-11-30T11:06:52.452104Z",
     "shell.execute_reply": "2021-11-30T11:06:52.451476Z",
     "shell.execute_reply.started": "2021-11-23T01:00:51.451203Z"
    },
    "papermill": {
     "duration": 0.310526,
     "end_time": "2021-11-30T11:06:52.452290",
     "exception": false,
     "start_time": "2021-11-30T11:06:52.141764",
     "status": "completed"
    },
    "tags": []
   },
   "outputs": [],
   "source": [
    "orders_customers = customers.merge(orders_silver, on='customer_id', how='inner')"
   ]
  },
  {
   "cell_type": "code",
   "execution_count": 37,
   "id": "28ccfb65",
   "metadata": {
    "execution": {
     "iopub.execute_input": "2021-11-30T11:06:52.598736Z",
     "iopub.status.busy": "2021-11-30T11:06:52.597721Z",
     "iopub.status.idle": "2021-11-30T11:06:52.938493Z",
     "shell.execute_reply": "2021-11-30T11:06:52.937836Z",
     "shell.execute_reply.started": "2021-11-23T01:00:51.714768Z"
    },
    "papermill": {
     "duration": 0.41537,
     "end_time": "2021-11-30T11:06:52.938661",
     "exception": false,
     "start_time": "2021-11-30T11:06:52.523291",
     "status": "completed"
    },
    "tags": []
   },
   "outputs": [],
   "source": [
    "max_date = max(orders_customers['order_purchase_timestamp']) + datetime.timedelta(days=1)"
   ]
  },
  {
   "cell_type": "code",
   "execution_count": 38,
   "id": "d459fc71",
   "metadata": {
    "execution": {
     "iopub.execute_input": "2021-11-30T11:06:53.084948Z",
     "iopub.status.busy": "2021-11-30T11:06:53.083853Z",
     "iopub.status.idle": "2021-11-30T11:07:04.192805Z",
     "shell.execute_reply": "2021-11-30T11:07:04.193358Z",
     "shell.execute_reply.started": "2021-11-23T01:00:52.075159Z"
    },
    "papermill": {
     "duration": 11.183804,
     "end_time": "2021-11-30T11:07:04.193581",
     "exception": false,
     "start_time": "2021-11-30T11:06:53.009777",
     "status": "completed"
    },
    "tags": []
   },
   "outputs": [],
   "source": [
    "rfm_data = orders_customers.groupby('customer_unique_id').agg({\n",
    "    'order_purchase_timestamp': lambda x: (max_date - x.max()).days,\n",
    "    'customer_id':'count',\n",
    "    'price':'sum'\n",
    "}).reset_index()\n",
    "rfm_data.columns =['customer_id','recency','frequency','monetary']"
   ]
  },
  {
   "cell_type": "markdown",
   "id": "9da36f33",
   "metadata": {
    "papermill": {
     "duration": 0.070246,
     "end_time": "2021-11-30T11:07:04.334901",
     "exception": false,
     "start_time": "2021-11-30T11:07:04.264655",
     "status": "completed"
    },
    "tags": []
   },
   "source": [
    "Note that the frequency of customers is the big problem for the classification, because only 3% of customers made more than one purchase but is something that's very common in ecommerce."
   ]
  },
  {
   "cell_type": "code",
   "execution_count": 39,
   "id": "71b84060",
   "metadata": {
    "execution": {
     "iopub.execute_input": "2021-11-30T11:07:04.480886Z",
     "iopub.status.busy": "2021-11-30T11:07:04.480227Z",
     "iopub.status.idle": "2021-11-30T11:07:05.199070Z",
     "shell.execute_reply": "2021-11-30T11:07:05.199670Z",
     "shell.execute_reply.started": "2021-11-23T01:01:03.026176Z"
    },
    "papermill": {
     "duration": 0.793466,
     "end_time": "2021-11-30T11:07:05.199867",
     "exception": false,
     "start_time": "2021-11-30T11:07:04.406401",
     "status": "completed"
    },
    "tags": []
   },
   "outputs": [
    {
     "name": "stdout",
     "output_type": "stream",
     "text": [
      "0.03034247735162137\n",
      "count    94488.000000\n",
      "mean         1.033771\n",
      "std          0.210110\n",
      "min          1.000000\n",
      "25%          1.000000\n",
      "50%          1.000000\n",
      "75%          1.000000\n",
      "max         16.000000\n",
      "Name: frequency, dtype: float64\n"
     ]
    },
    {
     "data": {
      "text/plain": [
       "<AxesSubplot:xlabel='frequency', ylabel='Count'>"
      ]
     },
     "execution_count": 39,
     "metadata": {},
     "output_type": "execute_result"
    },
    {
     "data": {
      "image/png": "[encoded data removed]",
      "text/plain": [
       "<Figure size 576x504 with 1 Axes>"
      ]
     },
     "metadata": {},
     "output_type": "display_data"
    }
   ],
   "source": [
    "print(rfm_data[rfm_data['frequency']>1].shape[0] / rfm_data.shape[0])\n",
    "print(rfm_data['frequency'].describe())\n",
    "sns.histplot(x='frequency', data=rfm_data, kde=True)"
   ]
  },
  {
   "cell_type": "markdown",
   "id": "3a8d1a26",
   "metadata": {
    "papermill": {
     "duration": 0.072128,
     "end_time": "2021-11-30T11:07:05.344061",
     "exception": false,
     "start_time": "2021-11-30T11:07:05.271933",
     "status": "completed"
    },
    "tags": []
   },
   "source": [
    "An average monetary customer is R\\\\$136 and 75% of the customers spend less than R\\\\$150 and the maximum was R\\\\$4690."
   ]
  },
  {
   "cell_type": "code",
   "execution_count": 40,
   "id": "7e739261",
   "metadata": {
    "execution": {
     "iopub.execute_input": "2021-11-30T11:07:05.492586Z",
     "iopub.status.busy": "2021-11-30T11:07:05.491880Z",
     "iopub.status.idle": "2021-11-30T11:07:08.656929Z",
     "shell.execute_reply": "2021-11-30T11:07:08.656356Z",
     "shell.execute_reply.started": "2021-11-23T01:01:03.748757Z"
    },
    "papermill": {
     "duration": 3.241054,
     "end_time": "2021-11-30T11:07:08.657082",
     "exception": false,
     "start_time": "2021-11-30T11:07:05.416028",
     "status": "completed"
    },
    "tags": []
   },
   "outputs": [
    {
     "name": "stdout",
     "output_type": "stream",
     "text": [
      "count    94488.000000\n",
      "mean       136.506113\n",
      "std        190.946953\n",
      "min          0.850000\n",
      "25%         47.000000\n",
      "50%         89.000000\n",
      "75%        150.000000\n",
      "max       4690.000000\n",
      "Name: monetary, dtype: float64\n"
     ]
    },
    {
     "data": {
      "text/plain": [
       "<AxesSubplot:xlabel='monetary', ylabel='Count'>"
      ]
     },
     "execution_count": 40,
     "metadata": {},
     "output_type": "execute_result"
    },
    {
     "data": {
      "image/png": "[encoded data removed]",
      "text/plain": [
       "<Figure size 576x504 with 1 Axes>"
      ]
     },
     "metadata": {},
     "output_type": "display_data"
    }
   ],
   "source": [
    "print(rfm_data['monetary'].describe())\n",
    "sns.histplot(x='monetary', data=rfm_data, kde=True)"
   ]
  },
  {
   "cell_type": "markdown",
   "id": "b439355b",
   "metadata": {
    "papermill": {
     "duration": 0.072958,
     "end_time": "2021-11-30T11:07:08.803687",
     "exception": false,
     "start_time": "2021-11-30T11:07:08.730729",
     "status": "completed"
    },
    "tags": []
   },
   "source": [
    "As we can see the 25% of customers have a recency of 3.9 months with an average of 8 months. With a purchase frequency equivalent to 1 and with this recency this indicates that customers make very specific purchases."
   ]
  },
  {
   "cell_type": "code",
   "execution_count": 41,
   "id": "5214142d",
   "metadata": {
    "execution": {
     "iopub.execute_input": "2021-11-30T11:07:08.969634Z",
     "iopub.status.busy": "2021-11-30T11:07:08.968974Z",
     "iopub.status.idle": "2021-11-30T11:07:09.905727Z",
     "shell.execute_reply": "2021-11-30T11:07:09.906230Z",
     "shell.execute_reply.started": "2021-11-23T01:01:06.918421Z"
    },
    "papermill": {
     "duration": 1.029522,
     "end_time": "2021-11-30T11:07:09.906432",
     "exception": false,
     "start_time": "2021-11-30T11:07:08.876910",
     "status": "completed"
    },
    "tags": []
   },
   "outputs": [
    {
     "name": "stdout",
     "output_type": "stream",
     "text": [
      "count    94488.000000\n",
      "mean       243.851198\n",
      "std        153.165787\n",
      "min          1.000000\n",
      "25%        120.000000\n",
      "50%        224.000000\n",
      "75%        353.000000\n",
      "max        729.000000\n",
      "Name: recency, dtype: float64\n"
     ]
    },
    {
     "data": {
      "text/plain": [
       "<AxesSubplot:xlabel='recency', ylabel='Count'>"
      ]
     },
     "execution_count": 41,
     "metadata": {},
     "output_type": "execute_result"
    },
    {
     "data": {
      "image/png": "[encoded data removed]",
      "text/plain": [
       "<Figure size 576x504 with 1 Axes>"
      ]
     },
     "metadata": {},
     "output_type": "display_data"
    }
   ],
   "source": [
    "print(rfm_data['recency'].describe())\n",
    "sns.histplot(x='recency', data=rfm_data, kde=True)"
   ]
  },
  {
   "cell_type": "markdown",
   "id": "85ae6c37",
   "metadata": {
    "papermill": {
     "duration": 0.082943,
     "end_time": "2021-11-30T11:07:10.079304",
     "exception": false,
     "start_time": "2021-11-30T11:07:09.996361",
     "status": "completed"
    },
    "tags": []
   },
   "source": [
    "<a id='data_insights'></a>\n",
    "\n",
    "**Conclusions:**\n",
    "* There are more customers in the southeast and south of the country. Other information, there are more customers in cities that are capitals (São Paulo, Rio de Janeiro, Porto Alegre and otheres);\n",
    "* The average order price is R\\\\$ 132 and 50% of orders cost less than R\\\\$85. The average freight value is R\\\\$21.41 and 50% of the orders have a freight value of R\\\\$ 17;\n",
    "* The delivery date needs to be revised because the average difference between estimated and actual delivery is 10 days, which is a bit high. Another fact is that only 7.81% of the actual delivery was lower than the estimated delivery;\n",
    "* There is a seasonal buying series in which in the months of December there is a drop in the purchase of products and in the months of January, March and May there is an increase;\n",
    "* Only 3% of customers made more than one purchase;\n",
    "* An average monetary customer is R\\\\$136 and 75% of the customers spend less than R\\\\$150 and the maximum was R\\\\$4690;\n",
    "* The 25% of customers have a recency of 3.9 months with an average of 8 months. With a purchase frequency equivalent to 1 and with this recency this indicates that customers make very specific purchases.\n",
    "\n",
    "<a id='customer_segmentation'></a>\n",
    "## Customer Segmentation\n",
    "\n",
    "As a algorithm the RFM was used, for being an easy-to-understand model.\n",
    "\n",
    "<a id='rfm'></a>\n",
    "The term RFM comes from the junction of three acronyms: Recency, Frequency, and Monetarity, seeking to better understand the customer and verify when was his last purchase, how many times he has bought and how much he has spent with the company.\n",
    "\n",
    "Recency(R) Days since the customer's last purchase\n",
    "Frequency(F) Number of products bought by the customer\n",
    "Monetarity(M) Total spent on purchases\n",
    "\n",
    "Customer Score:\n",
    "\n",
    "The customer score ranges from 1 to 5, where the higher this number, the better. This score is assigned for each acronym independently:\n",
    "\n",
    "* The more recent the customer's purchase the higher the Recency (R) score.\n",
    "* The more purchases the customer makes, the higher the Frequency score (F)\n",
    "* The more the customer spends on purchases, the higher the score the customer will have Monetarity(M)\n",
    "\n",
    "This definition of each score can be given through inference, i.e. some business definition or by quintile.\n",
    "\n",
    "\n",
    "#### Segmentation calculation:\n",
    "\n",
    "The calculation to know which segmentation the customer is in is given by averaging the F and M scores and the separate R value.\n",
    "\n",
    "| Segment Name               | Range of R values | Range of F and M Average |\n",
    "|----------------------------|-------------------|--------------------------|\n",
    "| Champions                  |       4 - 5       |           4 - 5          |\n",
    "| Loyal Customers            |       2 - 5       |           3 - 5          |\n",
    "| Potential Loyalist         |       3 - 5       |           1 - 3          |\n",
    "| New Customers              |       4 - 5       |           0 - 1          |\n",
    "| Promising                  |       3 - 4       |           0 - 1          |\n",
    "| Customers Needing Attetion |       2 - 3       |           2 - 3          |\n",
    "| About to Sleep             |       2 - 3       |           0 - 2          |\n",
    "| At Risk                    |       0 - 2       |           2 - 5          |\n",
    "| Can't Lose Them            |       0 - 1       |           4 - 5          |\n",
    "| Hibernating                |       1 - 2       |           1 - 2          |\n",
    "| Lost                       |       0 - 2       |           0 - 2          |\n",
    "\n",
    "source: [O que é RFM e como aplicá-lo ao seu time de Customer Success](https://medium.com/maxmilhas-tech/o-que-%C3%A9-rfm-e-como-aplic%C3%A1-lo-ao-seu-time-de-customer-service-b9c35817ed01)\n",
    "\n",
    "We have only 3% of customers who have made more than one purchase, i.e., we have skewed data. For this problem, we use the k-means algorithm to group the data according to their similar characteristics."
   ]
  },
  {
   "cell_type": "code",
   "execution_count": 50,
   "id": "df0516ef",
   "metadata": {
    "execution": {
     "iopub.execute_input": "2021-11-30T11:07:10.263097Z",
     "iopub.status.busy": "2021-11-30T11:07:10.262392Z",
     "iopub.status.idle": "2021-11-30T11:07:10.270489Z",
     "shell.execute_reply": "2021-11-30T11:07:10.271013Z",
     "shell.execute_reply.started": "2021-11-23T01:01:07.87655Z"
    },
    "papermill": {
     "duration": 0.101975,
     "end_time": "2021-11-30T11:07:10.271212",
     "exception": false,
     "start_time": "2021-11-30T11:07:10.169237",
     "status": "completed"
    },
    "tags": []
   },
   "outputs": [],
   "source": [
    "def k_means_group(data, n_clusters, random_state, asc=False, log_transf=False, standard_tranf=False):\n",
    "    \n",
    "    data_temp = data.copy()\n",
    "    if log_transf:\n",
    "        data_temp = np.log(data_temp) + 1\n",
    "        \n",
    "    if standard_tranf:\n",
    "        scaler = StandardScaler()\n",
    "        scaler = scaler.fit(data_temp)\n",
    "        data_temp = scaler.transform(data_temp)\n",
    "        \n",
    "    kmeans_sel = KMeans(n_clusters=n_clusters, random_state=random_state).fit(data_temp)\n",
    "    \n",
    "    cluster_group = data.assign(cluster = kmeans_sel.labels_)\n",
    "    \n",
    "    mean_group = cluster_group.groupby('cluster').mean().reset_index()\n",
    "    mean_group = mean_group.sort_values(by=mean_group.columns[1],ascending=asc)\n",
    "    mean_group['cluster_set'] = [i for i in range(n_clusters, 0, -1) ]\n",
    "    \n",
    "    cluster_map = mean_group.set_index('cluster').to_dict()['cluster_set']\n",
    "    \n",
    "    return cluster_group['cluster'].map(cluster_map)"
   ]
  },
  {
   "cell_type": "code",
   "execution_count": 51,
   "id": "ef5dd63f",
   "metadata": {
    "execution": {
     "iopub.execute_input": "2021-11-30T11:07:10.426685Z",
     "iopub.status.busy": "2021-11-30T11:07:10.425944Z",
     "iopub.status.idle": "2021-11-30T11:07:12.055163Z",
     "shell.execute_reply": "2021-11-30T11:07:12.055770Z",
     "shell.execute_reply.started": "2021-11-23T01:01:07.887776Z"
    },
    "papermill": {
     "duration": 1.708176,
     "end_time": "2021-11-30T11:07:12.055978",
     "exception": false,
     "start_time": "2021-11-30T11:07:10.347802",
     "status": "completed"
    },
    "tags": []
   },
   "outputs": [],
   "source": [
    "r_labels = k_means_group(rfm_data[['recency']],5,1,asc=True)\n",
    "f_labels = k_means_group(rfm_data[['frequency']],5,1)\n",
    "m_labels = k_means_group(rfm_data[['monetary']],5,1)\n",
    "\n",
    "rfm_data = rfm_data.assign(R = r_labels, F = f_labels, M = m_labels) "
   ]
  },
  {
   "cell_type": "markdown",
   "id": "b2f1b644",
   "metadata": {
    "papermill": {
     "duration": 0.089449,
     "end_time": "2021-11-30T11:07:12.234813",
     "exception": false,
     "start_time": "2021-11-30T11:07:12.145364",
     "status": "completed"
    },
    "tags": []
   },
   "source": [
    "As we can see, most customers have a recency between 5 to 8 months."
   ]
  },
  {
   "cell_type": "code",
   "execution_count": 52,
   "id": "7c7c5fb4",
   "metadata": {
    "execution": {
     "iopub.execute_input": "2021-11-30T11:07:12.420097Z",
     "iopub.status.busy": "2021-11-30T11:07:12.419374Z",
     "iopub.status.idle": "2021-11-30T11:07:12.454775Z",
     "shell.execute_reply": "2021-11-30T11:07:12.455374Z",
     "shell.execute_reply.started": "2021-11-23T01:01:09.680426Z"
    },
    "papermill": {
     "duration": 0.131599,
     "end_time": "2021-11-30T11:07:12.455579",
     "exception": false,
     "start_time": "2021-11-30T11:07:12.323980",
     "status": "completed"
    },
    "tags": []
   },
   "outputs": [
    {
     "data": {
      "text/html": [
       "<div>\n",
       "<style scoped>\n",
       "    .dataframe tbody tr th:only-of-type {\n",
       "        vertical-align: middle;\n",
       "    }\n",
       "\n",
       "    .dataframe tbody tr th {\n",
       "        vertical-align: top;\n",
       "    }\n",
       "\n",
       "    .dataframe thead th {\n",
       "        text-align: right;\n",
       "    }\n",
       "</style>\n",
       "<table border=\"1\" class=\"dataframe\">\n",
       "  <thead>\n",
       "    <tr style=\"text-align: right;\">\n",
       "      <th></th>\n",
       "      <th>count</th>\n",
       "      <th>mean</th>\n",
       "      <th>std</th>\n",
       "      <th>min</th>\n",
       "      <th>25%</th>\n",
       "      <th>50%</th>\n",
       "      <th>75%</th>\n",
       "      <th>max</th>\n",
       "    </tr>\n",
       "    <tr>\n",
       "      <th>R</th>\n",
       "      <th></th>\n",
       "      <th></th>\n",
       "      <th></th>\n",
       "      <th></th>\n",
       "      <th></th>\n",
       "      <th></th>\n",
       "      <th></th>\n",
       "      <th></th>\n",
       "    </tr>\n",
       "  </thead>\n",
       "  <tbody>\n",
       "    <tr>\n",
       "      <th>1</th>\n",
       "      <td>11933.0</td>\n",
       "      <td>516.522836</td>\n",
       "      <td>49.824093</td>\n",
       "      <td>450.0</td>\n",
       "      <td>476.0</td>\n",
       "      <td>510.0</td>\n",
       "      <td>547.0</td>\n",
       "      <td>729.0</td>\n",
       "    </tr>\n",
       "    <tr>\n",
       "      <th>2</th>\n",
       "      <td>15543.0</td>\n",
       "      <td>383.503957</td>\n",
       "      <td>35.334186</td>\n",
       "      <td>325.0</td>\n",
       "      <td>353.0</td>\n",
       "      <td>383.0</td>\n",
       "      <td>413.0</td>\n",
       "      <td>449.0</td>\n",
       "    </tr>\n",
       "    <tr>\n",
       "      <th>3</th>\n",
       "      <td>22579.0</td>\n",
       "      <td>265.345188</td>\n",
       "      <td>31.128486</td>\n",
       "      <td>212.0</td>\n",
       "      <td>236.0</td>\n",
       "      <td>270.0</td>\n",
       "      <td>287.0</td>\n",
       "      <td>324.0</td>\n",
       "    </tr>\n",
       "    <tr>\n",
       "      <th>4</th>\n",
       "      <td>24553.0</td>\n",
       "      <td>157.707775</td>\n",
       "      <td>30.919094</td>\n",
       "      <td>106.0</td>\n",
       "      <td>130.0</td>\n",
       "      <td>158.0</td>\n",
       "      <td>185.0</td>\n",
       "      <td>211.0</td>\n",
       "    </tr>\n",
       "    <tr>\n",
       "      <th>5</th>\n",
       "      <td>19880.0</td>\n",
       "      <td>52.973592</td>\n",
       "      <td>27.445351</td>\n",
       "      <td>1.0</td>\n",
       "      <td>29.0</td>\n",
       "      <td>49.0</td>\n",
       "      <td>77.0</td>\n",
       "      <td>105.0</td>\n",
       "    </tr>\n",
       "  </tbody>\n",
       "</table>\n",
       "</div>"
      ],
      "text/plain": [
       "     count        mean        std    min    25%    50%    75%    max\n",
       "R                                                                   \n",
       "1  11933.0  516.522836  49.824093  450.0  476.0  510.0  547.0  729.0\n",
       "2  15543.0  383.503957  35.334186  325.0  353.0  383.0  413.0  449.0\n",
       "3  22579.0  265.345188  31.128486  212.0  236.0  270.0  287.0  324.0\n",
       "4  24553.0  157.707775  30.919094  106.0  130.0  158.0  185.0  211.0\n",
       "5  19880.0   52.973592  27.445351    1.0   29.0   49.0   77.0  105.0"
      ]
     },
     "execution_count": 52,
     "metadata": {},
     "output_type": "execute_result"
    }
   ],
   "source": [
    "rfm_data.groupby('R')['recency'].describe()"
   ]
  },
  {
   "cell_type": "markdown",
   "id": "93878c53",
   "metadata": {
    "papermill": {
     "duration": 0.090468,
     "end_time": "2021-11-30T11:07:12.636801",
     "exception": false,
     "start_time": "2021-11-30T11:07:12.546333",
     "status": "completed"
    },
    "tags": []
   },
   "source": [
    " Because only 3% of customers made more than one purchase but is something that's very common in ecommerce."
   ]
  },
  {
   "cell_type": "code",
   "execution_count": 45,
   "id": "84640052",
   "metadata": {
    "execution": {
     "iopub.execute_input": "2021-11-30T11:07:12.834733Z",
     "iopub.status.busy": "2021-11-30T11:07:12.833691Z",
     "iopub.status.idle": "2021-11-30T11:07:12.857708Z",
     "shell.execute_reply": "2021-11-30T11:07:12.858370Z",
     "shell.execute_reply.started": "2021-11-23T01:01:09.725405Z"
    },
    "papermill": {
     "duration": 0.131605,
     "end_time": "2021-11-30T11:07:12.858606",
     "exception": false,
     "start_time": "2021-11-30T11:07:12.727001",
     "status": "completed"
    },
    "tags": []
   },
   "outputs": [
    {
     "data": {
      "text/html": [
       "<div>\n",
       "<style scoped>\n",
       "    .dataframe tbody tr th:only-of-type {\n",
       "        vertical-align: middle;\n",
       "    }\n",
       "\n",
       "    .dataframe tbody tr th {\n",
       "        vertical-align: top;\n",
       "    }\n",
       "\n",
       "    .dataframe thead th {\n",
       "        text-align: right;\n",
       "    }\n",
       "</style>\n",
       "<table border=\"1\" class=\"dataframe\">\n",
       "  <thead>\n",
       "    <tr style=\"text-align: right;\">\n",
       "      <th></th>\n",
       "      <th>count</th>\n",
       "      <th>mean</th>\n",
       "      <th>std</th>\n",
       "      <th>min</th>\n",
       "      <th>25%</th>\n",
       "      <th>50%</th>\n",
       "      <th>75%</th>\n",
       "      <th>max</th>\n",
       "    </tr>\n",
       "    <tr>\n",
       "      <th>F</th>\n",
       "      <th></th>\n",
       "      <th></th>\n",
       "      <th></th>\n",
       "      <th></th>\n",
       "      <th></th>\n",
       "      <th></th>\n",
       "      <th></th>\n",
       "      <th></th>\n",
       "    </tr>\n",
       "  </thead>\n",
       "  <tbody>\n",
       "    <tr>\n",
       "      <th>1</th>\n",
       "      <td>91621.0</td>\n",
       "      <td>1.000000</td>\n",
       "      <td>0.000000</td>\n",
       "      <td>1.0</td>\n",
       "      <td>1.0</td>\n",
       "      <td>1.0</td>\n",
       "      <td>1.0</td>\n",
       "      <td>1.0</td>\n",
       "    </tr>\n",
       "    <tr>\n",
       "      <th>2</th>\n",
       "      <td>2633.0</td>\n",
       "      <td>2.000000</td>\n",
       "      <td>0.000000</td>\n",
       "      <td>2.0</td>\n",
       "      <td>2.0</td>\n",
       "      <td>2.0</td>\n",
       "      <td>2.0</td>\n",
       "      <td>2.0</td>\n",
       "    </tr>\n",
       "    <tr>\n",
       "      <th>3</th>\n",
       "      <td>215.0</td>\n",
       "      <td>3.130233</td>\n",
       "      <td>0.337345</td>\n",
       "      <td>3.0</td>\n",
       "      <td>3.0</td>\n",
       "      <td>3.0</td>\n",
       "      <td>3.0</td>\n",
       "      <td>4.0</td>\n",
       "    </tr>\n",
       "    <tr>\n",
       "      <th>4</th>\n",
       "      <td>18.0</td>\n",
       "      <td>5.722222</td>\n",
       "      <td>1.074055</td>\n",
       "      <td>5.0</td>\n",
       "      <td>5.0</td>\n",
       "      <td>5.0</td>\n",
       "      <td>6.0</td>\n",
       "      <td>9.0</td>\n",
       "    </tr>\n",
       "    <tr>\n",
       "      <th>5</th>\n",
       "      <td>1.0</td>\n",
       "      <td>16.000000</td>\n",
       "      <td>NaN</td>\n",
       "      <td>16.0</td>\n",
       "      <td>16.0</td>\n",
       "      <td>16.0</td>\n",
       "      <td>16.0</td>\n",
       "      <td>16.0</td>\n",
       "    </tr>\n",
       "  </tbody>\n",
       "</table>\n",
       "</div>"
      ],
      "text/plain": [
       "     count       mean       std   min   25%   50%   75%   max\n",
       "F                                                            \n",
       "1  91621.0   1.000000  0.000000   1.0   1.0   1.0   1.0   1.0\n",
       "2   2633.0   2.000000  0.000000   2.0   2.0   2.0   2.0   2.0\n",
       "3    215.0   3.130233  0.337345   3.0   3.0   3.0   3.0   4.0\n",
       "4     18.0   5.722222  1.074055   5.0   5.0   5.0   6.0   9.0\n",
       "5      1.0  16.000000       NaN  16.0  16.0  16.0  16.0  16.0"
      ]
     },
     "execution_count": 45,
     "metadata": {},
     "output_type": "execute_result"
    }
   ],
   "source": [
    "rfm_data.groupby('F')['frequency'].describe()"
   ]
  },
  {
   "cell_type": "markdown",
   "id": "bc066266",
   "metadata": {
    "papermill": {
     "duration": 0.094321,
     "end_time": "2021-11-30T11:07:13.051501",
     "exception": false,
     "start_time": "2021-11-30T11:07:12.957180",
     "status": "completed"
    },
    "tags": []
   },
   "source": [
    "As we can see, most customers have an average monetary value of R\\$ 58.29. Which is not very good for business because the bigger the better."
   ]
  },
  {
   "cell_type": "code",
   "execution_count": 46,
   "id": "360ac021",
   "metadata": {
    "execution": {
     "iopub.execute_input": "2021-11-30T11:07:13.227993Z",
     "iopub.status.busy": "2021-11-30T11:07:13.225434Z",
     "iopub.status.idle": "2021-11-30T11:07:13.260032Z",
     "shell.execute_reply": "2021-11-30T11:07:13.259381Z",
     "shell.execute_reply.started": "2021-11-23T01:01:09.777633Z"
    },
    "papermill": {
     "duration": 0.117725,
     "end_time": "2021-11-30T11:07:13.260196",
     "exception": false,
     "start_time": "2021-11-30T11:07:13.142471",
     "status": "completed"
    },
    "tags": []
   },
   "outputs": [
    {
     "data": {
      "text/html": [
       "<div>\n",
       "<style scoped>\n",
       "    .dataframe tbody tr th:only-of-type {\n",
       "        vertical-align: middle;\n",
       "    }\n",
       "\n",
       "    .dataframe tbody tr th {\n",
       "        vertical-align: top;\n",
       "    }\n",
       "\n",
       "    .dataframe thead th {\n",
       "        text-align: right;\n",
       "    }\n",
       "</style>\n",
       "<table border=\"1\" class=\"dataframe\">\n",
       "  <thead>\n",
       "    <tr style=\"text-align: right;\">\n",
       "      <th></th>\n",
       "      <th>count</th>\n",
       "      <th>mean</th>\n",
       "      <th>std</th>\n",
       "      <th>min</th>\n",
       "      <th>25%</th>\n",
       "      <th>50%</th>\n",
       "      <th>75%</th>\n",
       "      <th>max</th>\n",
       "    </tr>\n",
       "    <tr>\n",
       "      <th>M</th>\n",
       "      <th></th>\n",
       "      <th></th>\n",
       "      <th></th>\n",
       "      <th></th>\n",
       "      <th></th>\n",
       "      <th></th>\n",
       "      <th></th>\n",
       "      <th></th>\n",
       "    </tr>\n",
       "  </thead>\n",
       "  <tbody>\n",
       "    <tr>\n",
       "      <th>1</th>\n",
       "      <td>59699.0</td>\n",
       "      <td>58.291115</td>\n",
       "      <td>29.269077</td>\n",
       "      <td>0.85</td>\n",
       "      <td>32.98</td>\n",
       "      <td>55.0</td>\n",
       "      <td>80.0000</td>\n",
       "      <td>118.33</td>\n",
       "    </tr>\n",
       "    <tr>\n",
       "      <th>2</th>\n",
       "      <td>27341.0</td>\n",
       "      <td>178.395047</td>\n",
       "      <td>50.425355</td>\n",
       "      <td>118.39</td>\n",
       "      <td>139.00</td>\n",
       "      <td>165.0</td>\n",
       "      <td>208.0000</td>\n",
       "      <td>310.53</td>\n",
       "    </tr>\n",
       "    <tr>\n",
       "      <th>3</th>\n",
       "      <td>5754.0</td>\n",
       "      <td>443.191658</td>\n",
       "      <td>109.776380</td>\n",
       "      <td>310.90</td>\n",
       "      <td>349.90</td>\n",
       "      <td>399.9</td>\n",
       "      <td>524.9000</td>\n",
       "      <td>709.90</td>\n",
       "    </tr>\n",
       "    <tr>\n",
       "      <th>4</th>\n",
       "      <td>1398.0</td>\n",
       "      <td>978.586996</td>\n",
       "      <td>215.769246</td>\n",
       "      <td>712.00</td>\n",
       "      <td>799.00</td>\n",
       "      <td>899.7</td>\n",
       "      <td>1129.8275</td>\n",
       "      <td>1535.40</td>\n",
       "    </tr>\n",
       "    <tr>\n",
       "      <th>5</th>\n",
       "      <td>296.0</td>\n",
       "      <td>2103.310541</td>\n",
       "      <td>580.200244</td>\n",
       "      <td>1549.00</td>\n",
       "      <td>1699.60</td>\n",
       "      <td>1978.5</td>\n",
       "      <td>2251.2500</td>\n",
       "      <td>4690.00</td>\n",
       "    </tr>\n",
       "  </tbody>\n",
       "</table>\n",
       "</div>"
      ],
      "text/plain": [
       "     count         mean         std      min      25%     50%        75%  \\\n",
       "M                                                                          \n",
       "1  59699.0    58.291115   29.269077     0.85    32.98    55.0    80.0000   \n",
       "2  27341.0   178.395047   50.425355   118.39   139.00   165.0   208.0000   \n",
       "3   5754.0   443.191658  109.776380   310.90   349.90   399.9   524.9000   \n",
       "4   1398.0   978.586996  215.769246   712.00   799.00   899.7  1129.8275   \n",
       "5    296.0  2103.310541  580.200244  1549.00  1699.60  1978.5  2251.2500   \n",
       "\n",
       "       max  \n",
       "M           \n",
       "1   118.33  \n",
       "2   310.53  \n",
       "3   709.90  \n",
       "4  1535.40  \n",
       "5  4690.00  "
      ]
     },
     "execution_count": 46,
     "metadata": {},
     "output_type": "execute_result"
    }
   ],
   "source": [
    "rfm_data.groupby('M')['monetary'].describe()"
   ]
  },
  {
   "cell_type": "code",
   "execution_count": 47,
   "id": "076d2b4e",
   "metadata": {
    "execution": {
     "iopub.execute_input": "2021-11-30T11:07:13.423128Z",
     "iopub.status.busy": "2021-11-30T11:07:13.422401Z",
     "iopub.status.idle": "2021-11-30T11:07:13.429573Z",
     "shell.execute_reply": "2021-11-30T11:07:13.428986Z",
     "shell.execute_reply.started": "2021-11-23T01:01:09.824923Z"
    },
    "papermill": {
     "duration": 0.092233,
     "end_time": "2021-11-30T11:07:13.429747",
     "exception": false,
     "start_time": "2021-11-30T11:07:13.337514",
     "status": "completed"
    },
    "tags": []
   },
   "outputs": [],
   "source": [
    "def get_segment(data):\n",
    "    mean_fm = (data['F'] + data['M']) / 2\n",
    "    \n",
    "    if (data['R'] >= 4 and data['R'] <= 5) and (mean_fm >= 4 and mean_fm <= 5):\n",
    "        return 'Champions'\n",
    "    if (data['R'] >= 2 and data['R'] <= 5) and (mean_fm >= 3 and mean_fm <= 5):\n",
    "        return 'Loyal Customers'\n",
    "    if (data['R'] >= 3 and data['R'] <= 5) and (mean_fm >= 1 and mean_fm <= 3):\n",
    "        return 'Potential Loyslist'\n",
    "    if (data['R'] >= 4 and data['R'] <= 5) and (mean_fm >= 0 and mean_fm <= 1):\n",
    "        return 'New Customers'\n",
    "    if (data['R'] >= 3 and data['R'] <= 4) and (mean_fm >= 0 and mean_fm <= 1):\n",
    "        return 'Promising'\n",
    "    if (data['R'] >= 2 and data['R'] <= 3) and (mean_fm >= 2 and mean_fm <= 3):\n",
    "        return 'Customer Needing Attention'\n",
    "    if (data['R'] >= 2 and data['R'] <= 3) and (mean_fm >= 0 and mean_fm <= 2):\n",
    "        return 'About to Sleep'\n",
    "    if (data['R'] >= 0 and data['R'] <= 2) and (mean_fm >= 2 and mean_fm <= 5):\n",
    "        return 'At Risk'\n",
    "    if (data['R'] >= 0 and data['R'] <= 1) and (mean_fm >= 4 and mean_fm <= 5):\n",
    "        return \"Can't Lose Then\"\n",
    "    if (data['R'] >= 1 and data['R'] <= 2) and (mean_fm >= 1 and mean_fm <= 2):\n",
    "        return 'Hibernating'\n",
    "    return 'Lost'"
   ]
  },
  {
   "cell_type": "code",
   "execution_count": 48,
   "id": "a6d668f7",
   "metadata": {
    "execution": {
     "iopub.execute_input": "2021-11-30T11:07:13.589786Z",
     "iopub.status.busy": "2021-11-30T11:07:13.589147Z",
     "iopub.status.idle": "2021-11-30T11:07:18.852080Z",
     "shell.execute_reply": "2021-11-30T11:07:18.851368Z",
     "shell.execute_reply.started": "2021-11-23T01:01:09.844311Z"
    },
    "papermill": {
     "duration": 5.344902,
     "end_time": "2021-11-30T11:07:18.852256",
     "exception": false,
     "start_time": "2021-11-30T11:07:13.507354",
     "status": "completed"
    },
    "tags": []
   },
   "outputs": [],
   "source": [
    "rfm_data['segment'] = rfm_data.apply(get_segment,axis=1)"
   ]
  },
  {
   "cell_type": "code",
   "execution_count": 59,
   "id": "6bd5d919",
   "metadata": {
    "execution": {
     "iopub.execute_input": "2021-11-30T11:07:19.010509Z",
     "iopub.status.busy": "2021-11-30T11:07:19.009742Z",
     "iopub.status.idle": "2021-11-30T11:07:19.193848Z",
     "shell.execute_reply": "2021-11-30T11:07:19.194414Z",
     "shell.execute_reply.started": "2021-11-23T01:04:53.500169Z"
    },
    "papermill": {
     "duration": 0.265631,
     "end_time": "2021-11-30T11:07:19.194599",
     "exception": false,
     "start_time": "2021-11-30T11:07:18.928968",
     "status": "completed"
    },
    "tags": []
   },
   "outputs": [
    {
     "data": {
      "image/png": "[encoded data removed]",
      "text/plain": [
       "<Figure size 720x360 with 1 Axes>"
      ]
     },
     "metadata": {},
     "output_type": "display_data"
    }
   ],
   "source": [
    "plt.figure(figsize=(10,5))\n",
    "percentage = (rfm_data['segment'].value_counts(normalize=True)* 100).reset_index(name='percentage')\n",
    "g = sns.barplot(x=percentage['percentage'],y=percentage['index'], data=percentage,palette=\"GnBu_d\")\n",
    "sns.despine(bottom = True, left = True)\n",
    "for i, v in enumerate(percentage['percentage']):\n",
    "    g.text(v,i+0.20,\"  {:.2f}\".format(v)+\"%\", color='black', ha=\"left\")\n",
    "g.set_ylabel('Segmentation')\n",
    "g.set(xticks=[])\n",
    "plt.title('Customer Segmentation')\n",
    "plt.show()"
   ]
  },
  {
   "cell_type": "markdown",
   "id": "c6158662",
   "metadata": {
    "papermill": {
     "duration": 0.077608,
     "end_time": "2021-11-30T11:07:19.350181",
     "exception": false,
     "start_time": "2021-11-30T11:07:19.272573",
     "status": "completed"
    },
    "tags": []
   },
   "source": [
    "<a id='segmentation_insights'></a>\n",
    "### Conclusion:\n",
    "\n",
    "**70.55% - Potential Loyslist:**\n",
    "\n",
    "These are recent buyers, spend a good amount and have bought more than once.\n",
    "\n",
    "<u>CRM Strategy</u>:\n",
    "\n",
    "* Offer a loyalty program;\n",
    "* Keep them engaged;\n",
    "* Personalized and other product recommendations.\n",
    "\n",
    "**14.93% - About to Sleep:**\n",
    "\n",
    "These are customers who haven't bought in a long time, but may still buy again.\n",
    "\n",
    "<u>CRM Strategy</u>:\n",
    "\n",
    "* Offer discounts;\n",
    "* Recommendation of popular products.\n",
    "\n",
    "**11.42% - Hibernating:**\n",
    "\n",
    "These are customers who have bought a long time ago, only a few times and have spent little\n",
    "\n",
    "<u>CRM Strategy</u>:\n",
    "\n",
    "* Standard communication for sending offers;\n",
    "* Offer relevant products and good deals.\n",
    "\n",
    "**1.44% - Customer Needing Attetion:**\n",
    "\n",
    "These are customers who have recently purchased, however are still in doubt whether they will make their next purchase from the company or a competitor.\n",
    "\n",
    "<u>CRM Strategy</u>:\n",
    "\n",
    "* Promotional campaigns for a limited time;\n",
    "* Product recommendations based on their behavior;\n",
    "* Show the importance of buying with the company.\n",
    "\n",
    "**1.21% - At Risk:**\n",
    "\n",
    "These are customers who have spent very little money and buy frequently, but have not bought for a long time\n",
    "\n",
    "<u>CRM Strategy</u>:\n",
    "\n",
    "* Send personalized communications and other messages to reconnect;\n",
    "* Offer good deals.\n",
    "\n",
    "**0.45% - Loyal Customers:**\n",
    "\n",
    "These are customers who spend well and often.\n",
    "\n",
    "<u>CRM Strategy</u>:\n",
    "\n",
    "* Personalized communication;\n",
    "* Avoid mass mailing of offers;\n",
    "* Offer few products, but present products that they are likely to be interested in;\n",
    "* Ask for product reviews.\n",
    "\n",
    "**0.01% - Champions:**\n",
    "\n",
    "These are customers who have bought recently, buy often, and spend a lot.\n",
    "\n",
    "<u> CRM Strategy</u>:\n",
    "\n",
    "* Special offers, products and discounts for these customers so they feel valued;\n",
    "* Ask for reviews and feedbacks constantly;\n",
    "* Avoid sending massive amounts of offers;\n",
    "* Personalized communication;\n",
    "* Give rewards."
   ]
  }
 ],
 "metadata": {
  "kernelspec": {
   "display_name": "Python 3",
   "language": "python",
   "name": "python3"
  },
  "language_info": {
   "codemirror_mode": {
    "name": "ipython",
    "version": 3
   },
   "file_extension": ".py",
   "mimetype": "text/x-python",
   "name": "python",
   "nbconvert_exporter": "python",
   "pygments_lexer": "ipython3",
   "version": "3.8.8"
  },
  "papermill": {
   "default_parameters": {},
   "duration": 68.481245,
   "end_time": "2021-11-30T11:07:20.742938",
   "environment_variables": {},
   "exception": null,
   "input_path": "__notebook__.ipynb",
   "output_path": "__notebook__.ipynb",
   "parameters": {},
   "start_time": "2021-11-30T11:06:12.261693",
   "version": "2.3.3"
  }
 },
 "nbformat": 4,
 "nbformat_minor": 5
}
